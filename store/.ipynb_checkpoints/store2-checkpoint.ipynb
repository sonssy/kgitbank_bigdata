{
 "cells": [
  {
   "cell_type": "markdown",
   "metadata": {},
   "source": [
    "# 소상공인시장진흥공단 상가업소정보 2018년 12월"
   ]
  },
  {
   "cell_type": "markdown",
   "metadata": {},
   "source": [
    "* https://www.data.go.kr/dataset/15012005/fileData.do"
   ]
  },
  {
   "cell_type": "code",
   "execution_count": 10,
   "metadata": {},
   "outputs": [],
   "source": [
    "import warnings\n",
    "warnings.filterwarnings('ignore')"
   ]
  },
  {
   "cell_type": "code",
   "execution_count": 14,
   "metadata": {},
   "outputs": [],
   "source": [
    "import pandas as pd\n",
    "import numpy as np\n",
    "from plotnine import *"
   ]
  },
  {
   "cell_type": "code",
   "execution_count": 15,
   "metadata": {},
   "outputs": [
    {
     "name": "stdout",
     "output_type": "stream",
     "text": [
      " D 드라이브의 볼륨에는 이름이 없습니다.\n",
      " 볼륨 일련 번호: 0006-765E\n",
      "\n",
      " D:\\GitTest\\bigdata\\kgitbank_bigdata\\store\\data 디렉터리\n",
      "\n",
      "2019-03-31  오전 10:23    <DIR>          .\n",
      "2019-03-31  오전 10:23    <DIR>          ..\n",
      "2019-03-31  오전 10:08           228,781 foo1.csv\n",
      "2019-03-12  오전 09:47       229,310,855 소상공인시장진흥공단_상가업소정보_201812_1.csv\n",
      "               2개 파일         229,539,636 바이트\n",
      "               2개 디렉터리  424,877,010,944 바이트 남음\n"
     ]
    }
   ],
   "source": [
    "# Window에서는 dir을 사용합니다.\n",
    "%ls data"
   ]
  },
  {
   "cell_type": "code",
   "execution_count": 16,
   "metadata": {},
   "outputs": [
    {
     "data": {
      "text/html": [
       "<div>\n",
       "<style scoped>\n",
       "    .dataframe tbody tr th:only-of-type {\n",
       "        vertical-align: middle;\n",
       "    }\n",
       "\n",
       "    .dataframe tbody tr th {\n",
       "        vertical-align: top;\n",
       "    }\n",
       "\n",
       "    .dataframe thead th {\n",
       "        text-align: right;\n",
       "    }\n",
       "</style>\n",
       "<table border=\"1\" class=\"dataframe\">\n",
       "  <thead>\n",
       "    <tr style=\"text-align: right;\">\n",
       "      <th></th>\n",
       "      <th>상가업소번호</th>\n",
       "      <th>상호명</th>\n",
       "      <th>지점명</th>\n",
       "      <th>상권업종대분류코드</th>\n",
       "      <th>상권업종대분류명</th>\n",
       "      <th>상권업종중분류코드</th>\n",
       "      <th>상권업종중분류명</th>\n",
       "      <th>상권업종소분류코드</th>\n",
       "      <th>상권업종소분류명</th>\n",
       "      <th>표준산업분류코드</th>\n",
       "      <th>...</th>\n",
       "      <th>건물관리번호</th>\n",
       "      <th>건물명</th>\n",
       "      <th>도로명주소</th>\n",
       "      <th>구우편번호</th>\n",
       "      <th>신우편번호</th>\n",
       "      <th>동정보</th>\n",
       "      <th>층정보</th>\n",
       "      <th>호정보</th>\n",
       "      <th>경도</th>\n",
       "      <th>위도</th>\n",
       "    </tr>\n",
       "  </thead>\n",
       "  <tbody>\n",
       "    <tr>\n",
       "      <th>0</th>\n",
       "      <td>19905471</td>\n",
       "      <td>와라와라호프</td>\n",
       "      <td>NaN</td>\n",
       "      <td>Q</td>\n",
       "      <td>음식</td>\n",
       "      <td>Q09</td>\n",
       "      <td>유흥주점</td>\n",
       "      <td>Q09A01</td>\n",
       "      <td>호프/맥주</td>\n",
       "      <td>I56219</td>\n",
       "      <td>...</td>\n",
       "      <td>1168010600106040000014378</td>\n",
       "      <td>대치상가</td>\n",
       "      <td>서울특별시 강남구 남부순환로 2933</td>\n",
       "      <td>135280</td>\n",
       "      <td>6280.0</td>\n",
       "      <td>NaN</td>\n",
       "      <td>1</td>\n",
       "      <td>NaN</td>\n",
       "      <td>127.061026</td>\n",
       "      <td>37.493922</td>\n",
       "    </tr>\n",
       "    <tr>\n",
       "      <th>1</th>\n",
       "      <td>19911397</td>\n",
       "      <td>커피빈코리아선릉로93길점</td>\n",
       "      <td>코리아선릉로93길점</td>\n",
       "      <td>Q</td>\n",
       "      <td>음식</td>\n",
       "      <td>Q12</td>\n",
       "      <td>커피점/카페</td>\n",
       "      <td>Q12A01</td>\n",
       "      <td>커피전문점/카페/다방</td>\n",
       "      <td>I56220</td>\n",
       "      <td>...</td>\n",
       "      <td>1168010100106960042022041</td>\n",
       "      <td>NaN</td>\n",
       "      <td>서울특별시 강남구 선릉로93길 6</td>\n",
       "      <td>135080</td>\n",
       "      <td>6149.0</td>\n",
       "      <td>NaN</td>\n",
       "      <td>1</td>\n",
       "      <td>NaN</td>\n",
       "      <td>127.047883</td>\n",
       "      <td>37.505675</td>\n",
       "    </tr>\n",
       "    <tr>\n",
       "      <th>2</th>\n",
       "      <td>19911801</td>\n",
       "      <td>프로포즈</td>\n",
       "      <td>NaN</td>\n",
       "      <td>Q</td>\n",
       "      <td>음식</td>\n",
       "      <td>Q09</td>\n",
       "      <td>유흥주점</td>\n",
       "      <td>Q09A01</td>\n",
       "      <td>호프/맥주</td>\n",
       "      <td>I56219</td>\n",
       "      <td>...</td>\n",
       "      <td>1154510200101620001017748</td>\n",
       "      <td>NaN</td>\n",
       "      <td>서울특별시 금천구 가산로 34-6</td>\n",
       "      <td>153010</td>\n",
       "      <td>8545.0</td>\n",
       "      <td>NaN</td>\n",
       "      <td>1</td>\n",
       "      <td>NaN</td>\n",
       "      <td>126.899220</td>\n",
       "      <td>37.471711</td>\n",
       "    </tr>\n",
       "    <tr>\n",
       "      <th>3</th>\n",
       "      <td>19912201</td>\n",
       "      <td>싱싱커피&amp;토스트</td>\n",
       "      <td>NaN</td>\n",
       "      <td>Q</td>\n",
       "      <td>음식</td>\n",
       "      <td>Q07</td>\n",
       "      <td>패스트푸드</td>\n",
       "      <td>Q07A10</td>\n",
       "      <td>토스트전문</td>\n",
       "      <td>I56192</td>\n",
       "      <td>...</td>\n",
       "      <td>2653010400105780000002037</td>\n",
       "      <td>산업용품유통상가</td>\n",
       "      <td>부산광역시 사상구 괘감로 37</td>\n",
       "      <td>617726</td>\n",
       "      <td>46977.0</td>\n",
       "      <td>NaN</td>\n",
       "      <td>1</td>\n",
       "      <td>26</td>\n",
       "      <td>128.980455</td>\n",
       "      <td>35.159774</td>\n",
       "    </tr>\n",
       "    <tr>\n",
       "      <th>4</th>\n",
       "      <td>19932756</td>\n",
       "      <td>가락사우나내스낵</td>\n",
       "      <td>NaN</td>\n",
       "      <td>F</td>\n",
       "      <td>생활서비스</td>\n",
       "      <td>F09</td>\n",
       "      <td>대중목욕탕/휴게</td>\n",
       "      <td>F09A02</td>\n",
       "      <td>사우나/증기탕/온천</td>\n",
       "      <td>S96121</td>\n",
       "      <td>...</td>\n",
       "      <td>1171010500102560005010490</td>\n",
       "      <td>NaN</td>\n",
       "      <td>서울특별시 송파구 가락로 71</td>\n",
       "      <td>138846</td>\n",
       "      <td>5690.0</td>\n",
       "      <td>NaN</td>\n",
       "      <td>1</td>\n",
       "      <td>NaN</td>\n",
       "      <td>127.104071</td>\n",
       "      <td>37.500249</td>\n",
       "    </tr>\n",
       "  </tbody>\n",
       "</table>\n",
       "<p>5 rows × 39 columns</p>\n",
       "</div>"
      ],
      "text/plain": [
       "     상가업소번호            상호명         지점명 상권업종대분류코드 상권업종대분류명 상권업종중분류코드  상권업종중분류명  \\\n",
       "0  19905471         와라와라호프         NaN         Q       음식       Q09      유흥주점   \n",
       "1  19911397  커피빈코리아선릉로93길점  코리아선릉로93길점         Q       음식       Q12    커피점/카페   \n",
       "2  19911801           프로포즈         NaN         Q       음식       Q09      유흥주점   \n",
       "3  19912201       싱싱커피&토스트         NaN         Q       음식       Q07     패스트푸드   \n",
       "4  19932756       가락사우나내스낵         NaN         F    생활서비스       F09  대중목욕탕/휴게   \n",
       "\n",
       "  상권업종소분류코드     상권업종소분류명 표준산업분류코드  ...                     건물관리번호       건물명  \\\n",
       "0    Q09A01        호프/맥주   I56219  ...  1168010600106040000014378      대치상가   \n",
       "1    Q12A01  커피전문점/카페/다방   I56220  ...  1168010100106960042022041       NaN   \n",
       "2    Q09A01        호프/맥주   I56219  ...  1154510200101620001017748       NaN   \n",
       "3    Q07A10        토스트전문   I56192  ...  2653010400105780000002037  산업용품유통상가   \n",
       "4    F09A02   사우나/증기탕/온천   S96121  ...  1171010500102560005010490       NaN   \n",
       "\n",
       "                  도로명주소   구우편번호    신우편번호  동정보 층정보  호정보          경도         위도  \n",
       "0  서울특별시 강남구 남부순환로 2933  135280   6280.0  NaN   1  NaN  127.061026  37.493922  \n",
       "1    서울특별시 강남구 선릉로93길 6  135080   6149.0  NaN   1  NaN  127.047883  37.505675  \n",
       "2    서울특별시 금천구 가산로 34-6  153010   8545.0  NaN   1  NaN  126.899220  37.471711  \n",
       "3      부산광역시 사상구 괘감로 37  617726  46977.0  NaN   1   26  128.980455  35.159774  \n",
       "4      서울특별시 송파구 가락로 71  138846   5690.0  NaN   1  NaN  127.104071  37.500249  \n",
       "\n",
       "[5 rows x 39 columns]"
      ]
     },
     "execution_count": 16,
     "metadata": {},
     "output_type": "execute_result"
    }
   ],
   "source": [
    "shop_2018 = pd.read_csv('data/소상공인시장진흥공단_상가업소정보_201812_1.csv', engine='python')\n",
    "shop_2018.head()"
   ]
  },
  {
   "cell_type": "code",
   "execution_count": 17,
   "metadata": {},
   "outputs": [
    {
     "data": {
      "text/plain": [
       "(499328, 39)"
      ]
     },
     "execution_count": 17,
     "metadata": {},
     "output_type": "execute_result"
    }
   ],
   "source": [
    "shop_2018.shape"
   ]
  },
  {
   "cell_type": "code",
   "execution_count": 18,
   "metadata": {},
   "outputs": [
    {
     "data": {
      "text/plain": [
       "(20600, 39)"
      ]
     },
     "execution_count": 18,
     "metadata": {},
     "output_type": "execute_result"
    }
   ],
   "source": [
    "coffee = shop_2018[shop_2018['상권업종소분류명'].str.contains('커피')]\n",
    "coffee.shape"
   ]
  },
  {
   "cell_type": "code",
   "execution_count": 19,
   "metadata": {},
   "outputs": [
    {
     "data": {
      "text/plain": [
       "Index(['상가업소번호', '상호명', '지점명', '상권업종대분류코드', '상권업종대분류명', '상권업종중분류코드',\n",
       "       '상권업종중분류명', '상권업종소분류코드', '상권업종소분류명', '표준산업분류코드', '표준산업분류명', '시도코드',\n",
       "       '시도명', '시군구코드', '시군구명', '행정동코드', '행정동명', '법정동코드', '법정동명', '지번코드',\n",
       "       '대지구분코드', '대지구분명', '지번본번지', '지번부번지', '지번주소', '도로명코드', '도로명', '건물본번지',\n",
       "       '건물부번지', '건물관리번호', '건물명', '도로명주소', '구우편번호', '신우편번호', '동정보', '층정보',\n",
       "       '호정보', '경도', '위도'],\n",
       "      dtype='object')"
      ]
     },
     "execution_count": 19,
     "metadata": {},
     "output_type": "execute_result"
    }
   ],
   "source": [
    "coffee.columns"
   ]
  },
  {
   "cell_type": "code",
   "execution_count": 20,
   "metadata": {},
   "outputs": [
    {
     "data": {
      "text/plain": [
       "(13718,)"
      ]
     },
     "execution_count": 20,
     "metadata": {},
     "output_type": "execute_result"
    }
   ],
   "source": [
    "# 상호명으로 봤을 때 커피점이 12472개가 있다.\n",
    "coffee['상호명'].unique().shape"
   ]
  },
  {
   "cell_type": "code",
   "execution_count": 21,
   "metadata": {},
   "outputs": [
    {
     "data": {
      "text/plain": [
       "array(['스타벅스종로3가점', '스타벅스커피여의도IFC1F', '스타벅스', '스타벅스신림사거리점', '스타벅스커피홍대역',\n",
       "       '스타벅스올림픽평화의문점', '스타벅스새문안로점', '스타벅스연신내역', '스타벅스연세백양로점',\n",
       "       '스타벅스가락시장역점', '스타벅스외대점', '스타벅스석촌역', '스타벅스명지대점', '스타벅스압구정로데오역',\n",
       "       '스타벅스연대동문', '스타벅스강남삼성타운점', '스타벅스서울대입구역점', '스타벅스신림점', '스타벅스광장점',\n",
       "       '스타벅스사당점', '스타벅스신촌명물거리점', '스타벅스명동미래', '스타벅스건국클래식점', '스타벅스연희DT점',\n",
       "       '스타벅스삼선교점', '스타벅스충정타워', '스타벅스올림픽공원북문점', '스타벅스커피여의도호성', '스타벅스이수역점',\n",
       "       '스타벅스방배카페입구', '스타벅스종각점', '스타벅스W-MALL점', '스타벅스용산역점', '스타벅스마포일진빌딩점',\n",
       "       '스타벅스천호로데오점', '스타벅스중계역점', '스타벅스명동메트로', '스타벅스마포아크로타워점',\n",
       "       '스타벅스남부터미널2점', '스타벅스구로디지털로점', '스타벅스중랑구청점', '스타벅스논현힐탑', '스타벅스종로관수점',\n",
       "       '스타벅스부산서면', '스타벅스삼성도심공항점', '스타벅스종로2가점', '스타벅스선정릉역점', '스타벅스미아역점',\n",
       "       '스타벅스선릉로점', '스타벅스커피신도림디큐브시티B2', '스타벅스역삼럭키', '스타벅스이태원거리점',\n",
       "       '스타벅스구로에이스트윈타워1점', '스타벅스을지로입구', '스타벅스교대역점', '스타벅스서울중앙우체국점',\n",
       "       '스타벅스삼성교점', '스타벅스남산스테이트', '스타벅스구로하이엔드점', '스타벅스명일이마트점',\n",
       "       '스타벅스조선호텔후문', '스타벅스목동점', '스타벅스커리학동사거리점', '스타벅스서울교대점',\n",
       "       '스타벅스강북구청사거리점', '스타벅스청담사거리점', '스타벅스방이역점', '스타벅스종로평창', '스타벅스서초파라곤점',\n",
       "       '스타벅스신압구정점', '스타벅스강변역점', '스타벅스올림픽공원남문점', '스타벅스명동중앙로', '스타벅스광화문역점',\n",
       "       '스타벅스서소문배재', '스타벅스세종로점', '스타벅스여의도점', '스타벅스커피가산그레이트', '스타벅스경복궁역',\n",
       "       '스타벅스을지로센타', '스타벅스예술의전당점', '스타벅스중랑역점', '스타벅스상봉역점', '스타벅스학여울점',\n",
       "       '스타벅스사당로데오점', '스타벅스구파발역점', '스타벅스숙대입구역점', '스타벅스금정이마트점', '스타벅스신천역점',\n",
       "       '스타벅스서면센트럴스퀘어점', '스타벅스커피신도림디큐브시티2F', '스타벅스서면중앙점', '스타벅스가든파이브',\n",
       "       '스타벅스커피가산브이타워', '스타벅스동교삼거리점', '스타벅스차병원사거리점', '스타벅스뱅뱅사거리점',\n",
       "       '스타벅스센텀신세계B1', '스타벅스경복아파트점', '스타벅스석촌서호점', '스타벅스동교점', '스타벅스월계이마트점',\n",
       "       '스타벅스광화문점', '스타벅스구산역점', '스타벅스상일동점', '스타벅스삼청동점', '스타벅스신촌점',\n",
       "       '스타벅스상암DMC센트럴몰점', '스타벅스숭실대점', '스타벅스역삼역점', '스타벅스합정메세나몰점', '스타벅스대치점',\n",
       "       '스타벅스홍대삼거리점', '스타벅스홍대갤러리점', '스타벅스석촌호수점', '스타벅스광운대점', '스타벅스목동5단지점',\n",
       "       '스타벅스청량리역점', '스타벅스연신내역점', '스타벅스부산서면점', '스타벅스숙대점', '스타벅스서소문배재점',\n",
       "       '스타벅스잠실점', '스타벅스한성대입구역점', '스타벅스송파사거리점', '스타벅스서교점', '스타벅스가산디지털단지점',\n",
       "       '스타벅스금천독산점', '스타벅스길동사거리점', '스타벅스노원케이티점', '스타벅스오목교역점',\n",
       "       '스타벅스코엑스사거리점', '스타벅스하단역점', '스타벅스황학캐슬점', '스타벅스고대프라자점',\n",
       "       '스타벅스센텀그린타워점', '스타벅스부산초량점', '스타벅스명동역점', '스타벅스강남에비뉴점',\n",
       "       'PPANGJIP(스타벅스재능기부카페2호점)', '스타벅스월드컵경기장점', '스타벅스압구정로데오역점',\n",
       "       '스타벅스상암디지털큐브점상암디지털큐브점', '스타벅스명동길점', '스타벅스마포트라팰점', '스타벅스종로수송점',\n",
       "       '스타벅스방배카페입구점', '스타벅스엔터식스한양대점', '스타벅스동묘앞역점동묘앞역점', '스타벅스동여의도점',\n",
       "       '스타벅스종암점', '스타벅스신설동역점', '스타벅스화곡동점', '스타벅스미아사거리역점', '스타벅스소공로북창점',\n",
       "       '스타벅스포스코사거리점', '스타벅스서교동사거리점', '스타벅스명지오션시티점', '스타벅스부산교대역점',\n",
       "       '스타벅스역삼럭키점', '스타벅스커피마포염리', '스타벅스낙성대DT점', '스타벅스한남동점', '스타벅스성신여대정문',\n",
       "       '스타벅스송파방이DT점', '스타벅스둔촌동점', '스타벅스동의대역점동의대역점', '스타벅스해운대점',\n",
       "       '스타벅스충정타워점', '스타벅스마포이마트점', '스타벅스숭실대입구역점', '스타벅스약수역점', '스타벅스회현역점',\n",
       "       '스타벅스명동입구점', '스타벅스중구저동점', '스타벅스신촌오거리점', '스타벅스염창역점', '스타벅스강동역점',\n",
       "       '스타벅스대치은마사거리점', '스타벅스부산재송DT점', '스타벅스청계산입구역점', '스타벅스합정점',\n",
       "       '스타벅스을숙도강변DT점', '스타벅스가산디지털단지역점', '스타벅스압구정점', '스타벅스동부산DT',\n",
       "       '스타벅스영등포신길DT점', '스타벅스대치사거리점', '스타벅스부산프리미엄점', '스타벅스사직구장점',\n",
       "       '스타벅스화곡DT점', '스타벅스광안비치점', '스타벅스강남우성점', '스타벅스양천향교역점', '스타벅스신세계본점',\n",
       "       '스타벅스송파구청점', '스타벅스신사가로수점', '스타벅스송파위례점', '스타벅스연산시티타워점',\n",
       "       '스타벅스문정하비오점', '스타벅스서강광흥창역점', '스타벅스서울대역점', '스타벅스청담영동대로점',\n",
       "       '스타벅스부산재송DT', '스타벅스문정역점', '스타벅스황학사거리점', '스타벅스경희대삼거리점',\n",
       "       '스타벅스신세계본점5F', '스타벅스국제시장점', '스타벅스이수역사거리점', '스타벅스공릉역점', '스타벅스외대정문점',\n",
       "       '스타벅스강남오거리점', '스타벅스커피강남대로신사', '스타벅스잠실대교남단점', '스타벅스자갈치역점',\n",
       "       '스타벅스동명대DT점', '스타벅스구로디지털타워점', '스타벅스강남점', '스타벅스노원마들역점',\n",
       "       '스타벅스마곡나루역점', '스타벅스신대방삼거리역점', '스타벅스신도림점', '스타벅스역점', '스타벅스공덕',\n",
       "       '스타벅스방화DT'], dtype=object)"
      ]
     },
     "execution_count": 21,
     "metadata": {},
     "output_type": "execute_result"
    }
   ],
   "source": [
    "coffee.loc[coffee['상호명'].str.contains('스타벅스'), '상호명'].unique()"
   ]
  },
  {
   "cell_type": "code",
   "execution_count": 22,
   "metadata": {},
   "outputs": [
    {
     "data": {
      "text/plain": [
       "0"
      ]
     },
     "execution_count": 22,
     "metadata": {},
     "output_type": "execute_result"
    }
   ],
   "source": [
    "coffee['시도명'].isnull().sum()"
   ]
  },
  {
   "cell_type": "code",
   "execution_count": 23,
   "metadata": {},
   "outputs": [
    {
     "data": {
      "text/plain": [
       "서울특별시    16088\n",
       "부산광역시     4512\n",
       "Name: 시도명, dtype: int64"
      ]
     },
     "execution_count": 23,
     "metadata": {},
     "output_type": "execute_result"
    }
   ],
   "source": [
    "# 지난 데이터와 마찬가지로 서울과 부산만 있습니다.\n",
    "# 다른 지역을 참고하고 싶다면 같은 폴더에 있는 다른 파일을 참고해 주세요.\n",
    "coffee['시도명'].value_counts()"
   ]
  },
  {
   "cell_type": "code",
   "execution_count": 24,
   "metadata": {},
   "outputs": [
    {
     "data": {
      "text/plain": [
       "array(['강남구', '영등포구', '중구', '서초구', '성북구', '구로구', '마포구', '종로구', '도봉구',\n",
       "       '남구', '기장군', '광진구', '은평구', '서대문구', '해운대구', '양천구', '관악구', '성동구',\n",
       "       '사상구', '금천구', '송파구', '동대문구', '사하구', '강서구', '금정구', '동작구', '중랑구',\n",
       "       '북구', '강동구', '용산구', '연제구', '노원구', '부산진구', '강북구', '수영구', '동구',\n",
       "       '동래구', '영도구', '서구'], dtype=object)"
      ]
     },
     "execution_count": 24,
     "metadata": {},
     "output_type": "execute_result"
    }
   ],
   "source": [
    "coffee['시군구명'].unique()"
   ]
  },
  {
   "cell_type": "code",
   "execution_count": 25,
   "metadata": {},
   "outputs": [
    {
     "data": {
      "text/plain": [
       "커피점/카페    20600\n",
       "Name: 상권업종중분류명, dtype: int64"
      ]
     },
     "execution_count": 25,
     "metadata": {},
     "output_type": "execute_result"
    }
   ],
   "source": [
    "coffee['상권업종중분류명'].value_counts()"
   ]
  },
  {
   "cell_type": "code",
   "execution_count": 26,
   "metadata": {},
   "outputs": [
    {
     "data": {
      "image/png": "[encoded data removed]",
      "text/plain": [
       "<Figure size 640x480 with 1 Axes>"
      ]
     },
     "metadata": {},
     "output_type": "display_data"
    },
    {
     "data": {
      "text/plain": [
       "<ggplot: (-9223371852632516604)>"
      ]
     },
     "execution_count": 26,
     "metadata": {},
     "output_type": "execute_result"
    }
   ],
   "source": [
    "(ggplot(shop_2018[:1000])\n",
    " + aes(x='경도', y='위도')\n",
    " + geom_point()\n",
    " + theme(text=element_text(family='NanumBarunGothic'))\n",
    ")"
   ]
  },
  {
   "cell_type": "code",
   "execution_count": 27,
   "metadata": {},
   "outputs": [
    {
     "data": {
      "text/plain": [
       "(345268, 39)"
      ]
     },
     "execution_count": 27,
     "metadata": {},
     "output_type": "execute_result"
    }
   ],
   "source": [
    "df_seoul = shop_2018.loc[shop_2018['시도명'].str.startswith('서울')].copy()\n",
    "df_seoul.shape"
   ]
  },
  {
   "cell_type": "code",
   "execution_count": 33,
   "metadata": {},
   "outputs": [
    {
     "data": {
      "text/plain": [
       "상가업소번호            0\n",
       "상호명               0\n",
       "지점명          295853\n",
       "상권업종대분류코드         0\n",
       "상권업종대분류명          0\n",
       "상권업종중분류코드         0\n",
       "상권업종중분류명          0\n",
       "상권업종소분류코드         0\n",
       "상권업종소분류명          0\n",
       "표준산업분류코드      19973\n",
       "표준산업분류명       19973\n",
       "시도코드              0\n",
       "시도명               0\n",
       "시군구코드             0\n",
       "시군구명              0\n",
       "행정동코드             0\n",
       "행정동명              0\n",
       "법정동코드             0\n",
       "법정동명              0\n",
       "지번코드              0\n",
       "대지구분코드            0\n",
       "대지구분명             0\n",
       "지번본번지             0\n",
       "지번부번지         66950\n",
       "지번주소              0\n",
       "도로명코드             0\n",
       "도로명               0\n",
       "건물본번지             0\n",
       "건물부번지        303299\n",
       "건물관리번호            0\n",
       "건물명          180470\n",
       "도로명주소             0\n",
       "구우편번호             0\n",
       "신우편번호             2\n",
       "동정보          319409\n",
       "층정보          102707\n",
       "호정보          297152\n",
       "경도                0\n",
       "위도                0\n",
       "dtype: int64"
      ]
     },
     "execution_count": 33,
     "metadata": {},
     "output_type": "execute_result"
    }
   ],
   "source": [
    "df_seoul.isnull().sum()"
   ]
  },
  {
   "cell_type": "code",
   "execution_count": 29,
   "metadata": {},
   "outputs": [
    {
     "data": {
      "text/plain": [
       "음식          112894\n",
       "소매          106490\n",
       "생활서비스        57266\n",
       "학문/교육        27717\n",
       "의료           15299\n",
       "부동산          13164\n",
       "관광/여가/오락      9536\n",
       "숙박            2790\n",
       "스포츠            112\n",
       "Name: 상권업종대분류명, dtype: int64"
      ]
     },
     "execution_count": 29,
     "metadata": {},
     "output_type": "execute_result"
    }
   ],
   "source": [
    "df_seoul['상권업종대분류명'].value_counts()"
   ]
  },
  {
   "cell_type": "code",
   "execution_count": 34,
   "metadata": {},
   "outputs": [
    {
     "data": {
      "text/html": [
       "<div>\n",
       "<style scoped>\n",
       "    .dataframe tbody tr th:only-of-type {\n",
       "        vertical-align: middle;\n",
       "    }\n",
       "\n",
       "    .dataframe tbody tr th {\n",
       "        vertical-align: top;\n",
       "    }\n",
       "\n",
       "    .dataframe thead th {\n",
       "        text-align: right;\n",
       "    }\n",
       "</style>\n",
       "<table border=\"1\" class=\"dataframe\">\n",
       "  <thead>\n",
       "    <tr style=\"text-align: right;\">\n",
       "      <th></th>\n",
       "      <th>상호명</th>\n",
       "      <th>지점명</th>\n",
       "      <th>상권업종대분류코드</th>\n",
       "      <th>상권업종대분류명</th>\n",
       "      <th>상권업종중분류코드</th>\n",
       "      <th>상권업종중분류명</th>\n",
       "      <th>상권업종소분류코드</th>\n",
       "      <th>상권업종소분류명</th>\n",
       "      <th>표준산업분류코드</th>\n",
       "      <th>표준산업분류명</th>\n",
       "      <th>...</th>\n",
       "      <th>법정동명</th>\n",
       "      <th>대지구분명</th>\n",
       "      <th>지번주소</th>\n",
       "      <th>도로명</th>\n",
       "      <th>건물관리번호</th>\n",
       "      <th>건물명</th>\n",
       "      <th>도로명주소</th>\n",
       "      <th>동정보</th>\n",
       "      <th>층정보</th>\n",
       "      <th>호정보</th>\n",
       "    </tr>\n",
       "  </thead>\n",
       "  <tbody>\n",
       "    <tr>\n",
       "      <th>count</th>\n",
       "      <td>345268</td>\n",
       "      <td>49415</td>\n",
       "      <td>345268</td>\n",
       "      <td>345268</td>\n",
       "      <td>345268</td>\n",
       "      <td>345268</td>\n",
       "      <td>345268</td>\n",
       "      <td>345268</td>\n",
       "      <td>325295</td>\n",
       "      <td>325295</td>\n",
       "      <td>...</td>\n",
       "      <td>345268</td>\n",
       "      <td>345268</td>\n",
       "      <td>345268</td>\n",
       "      <td>345268</td>\n",
       "      <td>345268</td>\n",
       "      <td>164798</td>\n",
       "      <td>345268</td>\n",
       "      <td>25859</td>\n",
       "      <td>242561</td>\n",
       "      <td>48116</td>\n",
       "    </tr>\n",
       "    <tr>\n",
       "      <th>unique</th>\n",
       "      <td>239717</td>\n",
       "      <td>18986</td>\n",
       "      <td>9</td>\n",
       "      <td>9</td>\n",
       "      <td>94</td>\n",
       "      <td>94</td>\n",
       "      <td>693</td>\n",
       "      <td>693</td>\n",
       "      <td>210</td>\n",
       "      <td>210</td>\n",
       "      <td>...</td>\n",
       "      <td>465</td>\n",
       "      <td>2</td>\n",
       "      <td>125264</td>\n",
       "      <td>11891</td>\n",
       "      <td>125850</td>\n",
       "      <td>25611</td>\n",
       "      <td>125050</td>\n",
       "      <td>926</td>\n",
       "      <td>122</td>\n",
       "      <td>2537</td>\n",
       "    </tr>\n",
       "    <tr>\n",
       "      <th>top</th>\n",
       "      <td>점프셈교실</td>\n",
       "      <td>본점</td>\n",
       "      <td>Q</td>\n",
       "      <td>음식</td>\n",
       "      <td>Q01</td>\n",
       "      <td>한식</td>\n",
       "      <td>Q01A01</td>\n",
       "      <td>한식/백반/한정식</td>\n",
       "      <td>I56111</td>\n",
       "      <td>한식 음식점업</td>\n",
       "      <td>...</td>\n",
       "      <td>신림동</td>\n",
       "      <td>대지</td>\n",
       "      <td>서울특별시 종로구 종로6가 262-1</td>\n",
       "      <td>서울특별시 서초구 신반포로</td>\n",
       "      <td>1111016400102700003012054</td>\n",
       "      <td>동대문종합시장</td>\n",
       "      <td>서울특별시 종로구 종로 266</td>\n",
       "      <td>1</td>\n",
       "      <td>1</td>\n",
       "      <td>1</td>\n",
       "    </tr>\n",
       "    <tr>\n",
       "      <th>freq</th>\n",
       "      <td>1709</td>\n",
       "      <td>304</td>\n",
       "      <td>112894</td>\n",
       "      <td>112894</td>\n",
       "      <td>36262</td>\n",
       "      <td>36262</td>\n",
       "      <td>23785</td>\n",
       "      <td>23785</td>\n",
       "      <td>44601</td>\n",
       "      <td>44601</td>\n",
       "      <td>...</td>\n",
       "      <td>6910</td>\n",
       "      <td>344909</td>\n",
       "      <td>975</td>\n",
       "      <td>3242</td>\n",
       "      <td>1007</td>\n",
       "      <td>1010</td>\n",
       "      <td>994</td>\n",
       "      <td>4507</td>\n",
       "      <td>163515</td>\n",
       "      <td>5667</td>\n",
       "    </tr>\n",
       "  </tbody>\n",
       "</table>\n",
       "<p>4 rows × 23 columns</p>\n",
       "</div>"
      ],
      "text/plain": [
       "           상호명    지점명 상권업종대분류코드 상권업종대분류명 상권업종중분류코드 상권업종중분류명 상권업종소분류코드  \\\n",
       "count   345268  49415    345268   345268    345268   345268    345268   \n",
       "unique  239717  18986         9        9        94       94       693   \n",
       "top      점프셈교실     본점         Q       음식       Q01       한식    Q01A01   \n",
       "freq      1709    304    112894   112894     36262    36262     23785   \n",
       "\n",
       "         상권업종소분류명 표준산업분류코드  표준산업분류명  ...    법정동명   대지구분명  \\\n",
       "count      345268   325295   325295  ...  345268  345268   \n",
       "unique        693      210      210  ...     465       2   \n",
       "top     한식/백반/한정식   I56111  한식 음식점업  ...     신림동      대지   \n",
       "freq        23785    44601    44601  ...    6910  344909   \n",
       "\n",
       "                        지번주소             도로명                     건물관리번호  \\\n",
       "count                 345268          345268                     345268   \n",
       "unique                125264           11891                     125850   \n",
       "top     서울특별시 종로구 종로6가 262-1  서울특별시 서초구 신반포로  1111016400102700003012054   \n",
       "freq                     975            3242                       1007   \n",
       "\n",
       "            건물명             도로명주소    동정보     층정보    호정보  \n",
       "count    164798            345268  25859  242561  48116  \n",
       "unique    25611            125050    926     122   2537  \n",
       "top     동대문종합시장  서울특별시 종로구 종로 266      1       1      1  \n",
       "freq       1010               994   4507  163515   5667  \n",
       "\n",
       "[4 rows x 23 columns]"
      ]
     },
     "execution_count": 34,
     "metadata": {},
     "output_type": "execute_result"
    }
   ],
   "source": [
    "df_seoul.describe(include=np.object)"
   ]
  },
  {
   "cell_type": "code",
   "execution_count": 35,
   "metadata": {},
   "outputs": [
    {
     "data": {
      "text/html": [
       "<div>\n",
       "<style scoped>\n",
       "    .dataframe tbody tr th:only-of-type {\n",
       "        vertical-align: middle;\n",
       "    }\n",
       "\n",
       "    .dataframe tbody tr th {\n",
       "        vertical-align: top;\n",
       "    }\n",
       "\n",
       "    .dataframe thead th {\n",
       "        text-align: right;\n",
       "    }\n",
       "</style>\n",
       "<table border=\"1\" class=\"dataframe\">\n",
       "  <thead>\n",
       "    <tr style=\"text-align: right;\">\n",
       "      <th></th>\n",
       "      <th>위도</th>\n",
       "      <th>경도</th>\n",
       "    </tr>\n",
       "  </thead>\n",
       "  <tbody>\n",
       "    <tr>\n",
       "      <th>count</th>\n",
       "      <td>345268.000000</td>\n",
       "      <td>345268.000000</td>\n",
       "    </tr>\n",
       "    <tr>\n",
       "      <th>mean</th>\n",
       "      <td>37.545319</td>\n",
       "      <td>126.994680</td>\n",
       "    </tr>\n",
       "    <tr>\n",
       "      <th>std</th>\n",
       "      <td>0.049133</td>\n",
       "      <td>0.081632</td>\n",
       "    </tr>\n",
       "    <tr>\n",
       "      <th>min</th>\n",
       "      <td>37.434081</td>\n",
       "      <td>126.768169</td>\n",
       "    </tr>\n",
       "    <tr>\n",
       "      <th>25%</th>\n",
       "      <td>37.504901</td>\n",
       "      <td>126.924840</td>\n",
       "    </tr>\n",
       "    <tr>\n",
       "      <th>50%</th>\n",
       "      <td>37.542104</td>\n",
       "      <td>127.008067</td>\n",
       "    </tr>\n",
       "    <tr>\n",
       "      <th>75%</th>\n",
       "      <td>37.573393</td>\n",
       "      <td>127.055651</td>\n",
       "    </tr>\n",
       "    <tr>\n",
       "      <th>max</th>\n",
       "      <td>37.692398</td>\n",
       "      <td>127.182588</td>\n",
       "    </tr>\n",
       "  </tbody>\n",
       "</table>\n",
       "</div>"
      ],
      "text/plain": [
       "                  위도             경도\n",
       "count  345268.000000  345268.000000\n",
       "mean       37.545319     126.994680\n",
       "std         0.049133       0.081632\n",
       "min        37.434081     126.768169\n",
       "25%        37.504901     126.924840\n",
       "50%        37.542104     127.008067\n",
       "75%        37.573393     127.055651\n",
       "max        37.692398     127.182588"
      ]
     },
     "execution_count": 35,
     "metadata": {},
     "output_type": "execute_result"
    }
   ],
   "source": [
    "df_seoul[['위도', '경도']].describe(include=np.number)"
   ]
  },
  {
   "cell_type": "code",
   "execution_count": 36,
   "metadata": {},
   "outputs": [
    {
     "data": {
      "image/png": "[encoded data removed]",
      "text/plain": [
       "<Figure size 640x480 with 1 Axes>"
      ]
     },
     "metadata": {},
     "output_type": "display_data"
    },
    {
     "data": {
      "text/plain": [
       "<ggplot: (-9223371852632461175)>"
      ]
     },
     "execution_count": 36,
     "metadata": {},
     "output_type": "execute_result"
    }
   ],
   "source": [
    "(ggplot(df_seoul)\n",
    " + aes('상권업종대분류명')\n",
    " + geom_bar(fill='#8181F7')\n",
    " + ggtitle('상권업종대분류명')\n",
    " + coord_flip()\n",
    " + theme(text=element_text(family='NanumBarunGothic'),\n",
    "        axis_text_x=element_text(rotation=60))\n",
    ")"
   ]
  },
  {
   "cell_type": "code",
   "execution_count": 37,
   "metadata": {},
   "outputs": [
    {
     "data": {
      "text/plain": [
       "(112894, 39)"
      ]
     },
     "execution_count": 37,
     "metadata": {},
     "output_type": "execute_result"
    }
   ],
   "source": [
    "df_food = df_seoul.loc[df_seoul['상권업종대분류명'].str.contains('음식')]\n",
    "df_food.shape"
   ]
  },
  {
   "cell_type": "code",
   "execution_count": 38,
   "metadata": {},
   "outputs": [
    {
     "data": {
      "image/png": "[encoded data removed]",
      "text/plain": [
       "<Figure size 640x480 with 1 Axes>"
      ]
     },
     "metadata": {},
     "output_type": "display_data"
    },
    {
     "data": {
      "text/plain": [
       "<ggplot: (-9223371852632422940)>"
      ]
     },
     "execution_count": 38,
     "metadata": {},
     "output_type": "execute_result"
    }
   ],
   "source": [
    "(ggplot(df_food)\n",
    " + aes('상권업종중분류명')\n",
    " + geom_bar(fill='#817FEE')\n",
    " + ggtitle('상권업종중분류명')\n",
    " + coord_flip()\n",
    " + theme(text=element_text(family='NanumBarunGothic'),\n",
    "        axis_text_x=element_text(rotation=60))\n",
    ")"
   ]
  },
  {
   "cell_type": "code",
   "execution_count": 39,
   "metadata": {},
   "outputs": [
    {
     "data": {
      "text/plain": [
       "(4818, 39)"
      ]
     },
     "execution_count": 39,
     "metadata": {},
     "output_type": "execute_result"
    }
   ],
   "source": [
    "df_fast_food = df_food.loc[df_food['상권업종중분류명'] == '패스트푸드']\n",
    "df_fast_food.shape"
   ]
  },
  {
   "cell_type": "code",
   "execution_count": 40,
   "metadata": {},
   "outputs": [
    {
     "data": {
      "text/plain": [
       "Index(['상가업소번호', '상호명', '지점명', '상권업종대분류코드', '상권업종대분류명', '상권업종중분류코드',\n",
       "       '상권업종중분류명', '상권업종소분류코드', '상권업종소분류명', '표준산업분류코드', '표준산업분류명', '시도코드',\n",
       "       '시도명', '시군구코드', '시군구명', '행정동코드', '행정동명', '법정동코드', '법정동명', '지번코드',\n",
       "       '대지구분코드', '대지구분명', '지번본번지', '지번부번지', '지번주소', '도로명코드', '도로명', '건물본번지',\n",
       "       '건물부번지', '건물관리번호', '건물명', '도로명주소', '구우편번호', '신우편번호', '동정보', '층정보',\n",
       "       '호정보', '경도', '위도'],\n",
       "      dtype='object')"
      ]
     },
     "execution_count": 40,
     "metadata": {},
     "output_type": "execute_result"
    }
   ],
   "source": [
    "df_food.columns"
   ]
  },
  {
   "cell_type": "code",
   "execution_count": 41,
   "metadata": {},
   "outputs": [
    {
     "data": {
      "text/plain": [
       "array(['피자마루', '롯데리아', '메가박스상봉', ..., '훌랄라참숯바베큐', '리코푸드코리아', '한스'],\n",
       "      dtype=object)"
      ]
     },
     "execution_count": 41,
     "metadata": {},
     "output_type": "execute_result"
    }
   ],
   "source": [
    "df_fast_food['상호명'].unique()"
   ]
  },
  {
   "cell_type": "markdown",
   "metadata": {},
   "source": [
    "# 배스킨라빈스와 던킨도너츠 입지분석"
   ]
  },
  {
   "cell_type": "code",
   "execution_count": 42,
   "metadata": {},
   "outputs": [
    {
     "data": {
      "text/plain": [
       "(446, 39)"
      ]
     },
     "execution_count": 42,
     "metadata": {},
     "output_type": "execute_result"
    }
   ],
   "source": [
    "df_31 = df_seoul[df_seoul['상호명'].str.contains('배스킨|던킨')].copy()\n",
    "df_31.shape"
   ]
  },
  {
   "cell_type": "code",
   "execution_count": 43,
   "metadata": {},
   "outputs": [
    {
     "data": {
      "text/plain": [
       "Index(['상호명', '지점명', '상권업종대분류명', '상권업종중분류명', '지번주소', '도로명주소', '위도', '경도',\n",
       "       '시군구명', '행정동명'],\n",
       "      dtype='object')"
      ]
     },
     "execution_count": 43,
     "metadata": {},
     "output_type": "execute_result"
    }
   ],
   "source": [
    "df_31 = df_31[['상호명', '지점명', '상권업종대분류명', '상권업종중분류명', \n",
    "               '지번주소', '도로명주소',  '위도', '경도', '시군구명', '행정동명']].copy()\n",
    "df_31.columns"
   ]
  },
  {
   "cell_type": "code",
   "execution_count": 44,
   "metadata": {},
   "outputs": [
    {
     "data": {
      "text/html": [
       "<div>\n",
       "<style scoped>\n",
       "    .dataframe tbody tr th:only-of-type {\n",
       "        vertical-align: middle;\n",
       "    }\n",
       "\n",
       "    .dataframe tbody tr th {\n",
       "        vertical-align: top;\n",
       "    }\n",
       "\n",
       "    .dataframe thead th {\n",
       "        text-align: right;\n",
       "    }\n",
       "</style>\n",
       "<table border=\"1\" class=\"dataframe\">\n",
       "  <thead>\n",
       "    <tr style=\"text-align: right;\">\n",
       "      <th></th>\n",
       "      <th>상호명</th>\n",
       "      <th>지점명</th>\n",
       "      <th>상권업종대분류명</th>\n",
       "      <th>상권업종중분류명</th>\n",
       "      <th>지번주소</th>\n",
       "      <th>도로명주소</th>\n",
       "      <th>위도</th>\n",
       "      <th>경도</th>\n",
       "      <th>시군구명</th>\n",
       "      <th>행정동명</th>\n",
       "    </tr>\n",
       "  </thead>\n",
       "  <tbody>\n",
       "    <tr>\n",
       "      <th>77</th>\n",
       "      <td>배스킨라빈스</td>\n",
       "      <td>관악구청점</td>\n",
       "      <td>음식</td>\n",
       "      <td>패스트푸드</td>\n",
       "      <td>서울특별시 관악구 봉천동 863-13</td>\n",
       "      <td>서울특별시 관악구 관악로 161</td>\n",
       "      <td>37.479599</td>\n",
       "      <td>126.952166</td>\n",
       "      <td>관악구</td>\n",
       "      <td>청룡동</td>\n",
       "    </tr>\n",
       "    <tr>\n",
       "      <th>1545</th>\n",
       "      <td>던킨도너츠테크노마트점</td>\n",
       "      <td>테크노마트점</td>\n",
       "      <td>음식</td>\n",
       "      <td>패스트푸드</td>\n",
       "      <td>서울특별시 광진구 구의동 546-4</td>\n",
       "      <td>서울특별시 광진구 광나루로56길 85</td>\n",
       "      <td>37.535713</td>\n",
       "      <td>127.095681</td>\n",
       "      <td>광진구</td>\n",
       "      <td>구의3동</td>\n",
       "    </tr>\n",
       "    <tr>\n",
       "      <th>1881</th>\n",
       "      <td>던킨도너츠창동하나로</td>\n",
       "      <td>NaN</td>\n",
       "      <td>음식</td>\n",
       "      <td>패스트푸드</td>\n",
       "      <td>서울특별시 도봉구 창동 1-10</td>\n",
       "      <td>서울특별시 도봉구 마들로11길 20</td>\n",
       "      <td>37.655101</td>\n",
       "      <td>127.050818</td>\n",
       "      <td>도봉구</td>\n",
       "      <td>창4동</td>\n",
       "    </tr>\n",
       "    <tr>\n",
       "      <th>1910</th>\n",
       "      <td>던킨도너츠용산민자역사2호</td>\n",
       "      <td>NaN</td>\n",
       "      <td>음식</td>\n",
       "      <td>패스트푸드</td>\n",
       "      <td>서울특별시 용산구 한강로3가 40-999</td>\n",
       "      <td>서울특별시 용산구 한강대로21나길 7</td>\n",
       "      <td>37.527903</td>\n",
       "      <td>126.963223</td>\n",
       "      <td>용산구</td>\n",
       "      <td>한강로동</td>\n",
       "    </tr>\n",
       "    <tr>\n",
       "      <th>2412</th>\n",
       "      <td>던킨도너츠</td>\n",
       "      <td>잠실본동점</td>\n",
       "      <td>음식</td>\n",
       "      <td>패스트푸드</td>\n",
       "      <td>서울특별시 송파구 잠실동 242-9</td>\n",
       "      <td>서울특별시 송파구 석촌호수로 118</td>\n",
       "      <td>37.507431</td>\n",
       "      <td>127.090005</td>\n",
       "      <td>송파구</td>\n",
       "      <td>잠실본동</td>\n",
       "    </tr>\n",
       "  </tbody>\n",
       "</table>\n",
       "</div>"
      ],
      "text/plain": [
       "                상호명     지점명 상권업종대분류명 상권업종중분류명                    지번주소  \\\n",
       "77           배스킨라빈스   관악구청점       음식    패스트푸드    서울특별시 관악구 봉천동 863-13   \n",
       "1545    던킨도너츠테크노마트점  테크노마트점       음식    패스트푸드     서울특별시 광진구 구의동 546-4   \n",
       "1881     던킨도너츠창동하나로     NaN       음식    패스트푸드       서울특별시 도봉구 창동 1-10   \n",
       "1910  던킨도너츠용산민자역사2호     NaN       음식    패스트푸드  서울특별시 용산구 한강로3가 40-999   \n",
       "2412          던킨도너츠   잠실본동점       음식    패스트푸드     서울특별시 송파구 잠실동 242-9   \n",
       "\n",
       "                     도로명주소         위도          경도 시군구명  행정동명  \n",
       "77       서울특별시 관악구 관악로 161  37.479599  126.952166  관악구   청룡동  \n",
       "1545  서울특별시 광진구 광나루로56길 85  37.535713  127.095681  광진구  구의3동  \n",
       "1881   서울특별시 도봉구 마들로11길 20  37.655101  127.050818  도봉구   창4동  \n",
       "1910  서울특별시 용산구 한강대로21나길 7  37.527903  126.963223  용산구  한강로동  \n",
       "2412   서울특별시 송파구 석촌호수로 118  37.507431  127.090005  송파구  잠실본동  "
      ]
     },
     "execution_count": 44,
     "metadata": {},
     "output_type": "execute_result"
    }
   ],
   "source": [
    "df_31.head()"
   ]
  },
  {
   "cell_type": "code",
   "execution_count": 45,
   "metadata": {},
   "outputs": [
    {
     "data": {
      "text/plain": [
       "배스킨라빈스31             108\n",
       "던킨도너츠                 86\n",
       "배스킨라빈스                46\n",
       "던킨도넛                   4\n",
       "배스킨라빈스31아현뉴타운점         1\n",
       "배스킨라빈스31구의역점           1\n",
       "던킨도너츠김포공항국내선           1\n",
       "던킨도너츠노원세이브존            1\n",
       "던킨도너츠동대문푸르지오시티점        1\n",
       "배스킨라빈스31마포용강점          1\n",
       "배스킨라빈스31서울숲점           1\n",
       "비알코리아던킨도너츠두산           1\n",
       "배스킨라빈스31쌍문점            1\n",
       "던킨도너츠교대점               1\n",
       "배스킨라빈스31구로고척점          1\n",
       "배스킨라빈스31망우우림점          1\n",
       "배스킨라빈스31북가좌점           1\n",
       "배스킨라빈스브라운청담점           1\n",
       "던킨도너츠동대문               1\n",
       "배스킨라빈스31수색이마트점         1\n",
       "배스킨라빈스31까치산역점          1\n",
       "배스킨라빈스31둔촌역점           1\n",
       "던킨도너츠용산민자역사2호          1\n",
       "배스킨라빈스31선릉점            1\n",
       "비알코리아던킨도너츠동부           1\n",
       "던킨도너츠김포국제공항점           1\n",
       "배스킨라빈스31전농동아점          1\n",
       "배스킨라빈스31서울대점           1\n",
       "배스킨라빈스공릉점              1\n",
       "배스킨라빈스31아차산역점          1\n",
       "                    ... \n",
       "던킨도너츠르네상스점             1\n",
       "배스킨라빈스신풍역              1\n",
       "배스킨라빈스31장승배기역점         1\n",
       "배스킨라빈스31수락산역점          1\n",
       "던킨도너츠테크노마트점            1\n",
       "용산역이마트배스킨라빈스           1\n",
       "배스킨라빈스31미아삼거리점         1\n",
       "배스킨라빈스31서초점            1\n",
       "배스킨라빈스31대치2호점          1\n",
       "배스킨라빈스31노원로데오점         1\n",
       "배스킨라빈스31신월신곡점          1\n",
       "배스킨라빈스동대문홈플러스          1\n",
       "배스킨라빈스31신풍역점           1\n",
       "배스킨라빈스31성북종암점          1\n",
       "던킨도너츠공릉역점              1\n",
       "배스킨라빈스31개봉중앙점          1\n",
       "배스킨라빈스31신도림홈플러스점       1\n",
       "배스킨라빈스31영등포문래점         1\n",
       "비알코리아던킨도너츠고대           1\n",
       "국제흥업개발던킨도너츠용산센트럴점      1\n",
       "비알코리아던킨도너츠중            1\n",
       "배스킨라빈스31중계은행점          1\n",
       "배스킨라빈스31월곡홈플러스점        1\n",
       "배스킨라빈스영등포문래            1\n",
       "배스킨라빈스31신정점            1\n",
       "배스킨라빈스31당산역점           1\n",
       "배스킨라빈스31노량진점           1\n",
       "배스킨라빈스31서울대입구역점        1\n",
       "배스킨라빈스31응암역점           1\n",
       "배스킨라빈스31BROWN청담점       1\n",
       "Name: 상호명, Length: 206, dtype: int64"
      ]
     },
     "execution_count": 45,
     "metadata": {},
     "output_type": "execute_result"
    }
   ],
   "source": [
    "df_31['상호명'].value_counts()"
   ]
  },
  {
   "cell_type": "code",
   "execution_count": 46,
   "metadata": {},
   "outputs": [],
   "source": [
    "# 브랜드명이라는 컬럼을 새로 만들어줍니다.\n",
    "df_31['브랜드명'] = ''"
   ]
  },
  {
   "cell_type": "code",
   "execution_count": 47,
   "metadata": {},
   "outputs": [
    {
     "data": {
      "text/html": [
       "<div>\n",
       "<style scoped>\n",
       "    .dataframe tbody tr th:only-of-type {\n",
       "        vertical-align: middle;\n",
       "    }\n",
       "\n",
       "    .dataframe tbody tr th {\n",
       "        vertical-align: top;\n",
       "    }\n",
       "\n",
       "    .dataframe thead th {\n",
       "        text-align: right;\n",
       "    }\n",
       "</style>\n",
       "<table border=\"1\" class=\"dataframe\">\n",
       "  <thead>\n",
       "    <tr style=\"text-align: right;\">\n",
       "      <th></th>\n",
       "      <th>상호명</th>\n",
       "      <th>브랜드명</th>\n",
       "    </tr>\n",
       "  </thead>\n",
       "  <tbody>\n",
       "    <tr>\n",
       "      <th>77</th>\n",
       "      <td>배스킨라빈스</td>\n",
       "      <td></td>\n",
       "    </tr>\n",
       "    <tr>\n",
       "      <th>1545</th>\n",
       "      <td>던킨도너츠테크노마트점</td>\n",
       "      <td></td>\n",
       "    </tr>\n",
       "    <tr>\n",
       "      <th>1881</th>\n",
       "      <td>던킨도너츠창동하나로</td>\n",
       "      <td></td>\n",
       "    </tr>\n",
       "    <tr>\n",
       "      <th>1910</th>\n",
       "      <td>던킨도너츠용산민자역사2호</td>\n",
       "      <td></td>\n",
       "    </tr>\n",
       "    <tr>\n",
       "      <th>2412</th>\n",
       "      <td>던킨도너츠</td>\n",
       "      <td></td>\n",
       "    </tr>\n",
       "  </tbody>\n",
       "</table>\n",
       "</div>"
      ],
      "text/plain": [
       "                상호명 브랜드명\n",
       "77           배스킨라빈스     \n",
       "1545    던킨도너츠테크노마트점     \n",
       "1881     던킨도너츠창동하나로     \n",
       "1910  던킨도너츠용산민자역사2호     \n",
       "2412          던킨도너츠     "
      ]
     },
     "execution_count": 47,
     "metadata": {},
     "output_type": "execute_result"
    }
   ],
   "source": [
    "df_31[['상호명', '브랜드명']].head()"
   ]
  },
  {
   "cell_type": "code",
   "execution_count": 48,
   "metadata": {},
   "outputs": [],
   "source": [
    "df_31.loc[df_31['상호명'].str.contains('배스킨'), '브랜드명'] = '배스킨라빈스'\n",
    "df_31.loc[df_31['상호명'].str.contains('던킨'), '브랜드명'] = '던킨도너츠'"
   ]
  },
  {
   "cell_type": "code",
   "execution_count": 49,
   "metadata": {},
   "outputs": [
    {
     "data": {
      "text/html": [
       "<div>\n",
       "<style scoped>\n",
       "    .dataframe tbody tr th:only-of-type {\n",
       "        vertical-align: middle;\n",
       "    }\n",
       "\n",
       "    .dataframe tbody tr th {\n",
       "        vertical-align: top;\n",
       "    }\n",
       "\n",
       "    .dataframe thead th {\n",
       "        text-align: right;\n",
       "    }\n",
       "</style>\n",
       "<table border=\"1\" class=\"dataframe\">\n",
       "  <thead>\n",
       "    <tr style=\"text-align: right;\">\n",
       "      <th></th>\n",
       "      <th>상호명</th>\n",
       "      <th>브랜드명</th>\n",
       "    </tr>\n",
       "  </thead>\n",
       "  <tbody>\n",
       "    <tr>\n",
       "      <th>77</th>\n",
       "      <td>배스킨라빈스</td>\n",
       "      <td>배스킨라빈스</td>\n",
       "    </tr>\n",
       "    <tr>\n",
       "      <th>1545</th>\n",
       "      <td>던킨도너츠테크노마트점</td>\n",
       "      <td>던킨도너츠</td>\n",
       "    </tr>\n",
       "    <tr>\n",
       "      <th>1881</th>\n",
       "      <td>던킨도너츠창동하나로</td>\n",
       "      <td>던킨도너츠</td>\n",
       "    </tr>\n",
       "    <tr>\n",
       "      <th>1910</th>\n",
       "      <td>던킨도너츠용산민자역사2호</td>\n",
       "      <td>던킨도너츠</td>\n",
       "    </tr>\n",
       "    <tr>\n",
       "      <th>2412</th>\n",
       "      <td>던킨도너츠</td>\n",
       "      <td>던킨도너츠</td>\n",
       "    </tr>\n",
       "  </tbody>\n",
       "</table>\n",
       "</div>"
      ],
      "text/plain": [
       "                상호명    브랜드명\n",
       "77           배스킨라빈스  배스킨라빈스\n",
       "1545    던킨도너츠테크노마트점   던킨도너츠\n",
       "1881     던킨도너츠창동하나로   던킨도너츠\n",
       "1910  던킨도너츠용산민자역사2호   던킨도너츠\n",
       "2412          던킨도너츠   던킨도너츠"
      ]
     },
     "execution_count": 49,
     "metadata": {},
     "output_type": "execute_result"
    }
   ],
   "source": [
    "df_31[['상호명', '브랜드명']].head()"
   ]
  },
  {
   "cell_type": "code",
   "execution_count": 50,
   "metadata": {},
   "outputs": [
    {
     "data": {
      "text/plain": [
       "배스킨라빈스    298\n",
       "던킨도너츠     148\n",
       "Name: 브랜드명, dtype: int64"
      ]
     },
     "execution_count": 50,
     "metadata": {},
     "output_type": "execute_result"
    }
   ],
   "source": [
    "df_31_group_count = df_31['브랜드명'].value_counts()\n",
    "df_31_group_count"
   ]
  },
  {
   "cell_type": "code",
   "execution_count": 51,
   "metadata": {},
   "outputs": [
    {
     "name": "stdout",
     "output_type": "stream",
     "text": [
      "제공된 데이터로 봤을 때 서울에는 던킨도너츠보다 배스킨라빈스의 매장이 2.01배가량 많습니다.\n"
     ]
    }
   ],
   "source": [
    "df_31_ratio = df_31_group_count[0]/df_31_group_count[1]\n",
    "print('제공된 데이터로 봤을 때 서울에는 던킨도너츠보다 배스킨라빈스의 매장이 {0:.2f}배가량 많습니다.'.format(df_31_ratio))"
   ]
  },
  {
   "cell_type": "code",
   "execution_count": 52,
   "metadata": {},
   "outputs": [
    {
     "name": "stdout",
     "output_type": "stream",
     "text": [
      "<class 'pandas.core.frame.DataFrame'>\n",
      "Int64Index: 446 entries, 77 to 499323\n",
      "Data columns (total 11 columns):\n",
      "상호명         446 non-null object\n",
      "지점명         376 non-null object\n",
      "상권업종대분류명    446 non-null object\n",
      "상권업종중분류명    446 non-null object\n",
      "지번주소        446 non-null object\n",
      "도로명주소       446 non-null object\n",
      "위도          446 non-null float64\n",
      "경도          446 non-null float64\n",
      "시군구명        446 non-null object\n",
      "행정동명        446 non-null object\n",
      "브랜드명        446 non-null object\n",
      "dtypes: float64(2), object(9)\n",
      "memory usage: 41.8+ KB\n"
     ]
    }
   ],
   "source": [
    "df_31.info()"
   ]
  },
  {
   "cell_type": "code",
   "execution_count": 53,
   "metadata": {},
   "outputs": [],
   "source": [
    "df_31['위도'] = df_31['위도'].astype(float)#type 바꿔주기\n",
    "df_31['경도'] = df_31['경도'].astype(float)"
   ]
  },
  {
   "cell_type": "code",
   "execution_count": 54,
   "metadata": {},
   "outputs": [
    {
     "data": {
      "image/png": "[encoded data removed]",
      "text/plain": [
       "<Figure size 640x480 with 1 Axes>"
      ]
     },
     "metadata": {},
     "output_type": "display_data"
    },
    {
     "data": {
      "text/plain": [
       "<ggplot: (-9223371852632387924)>"
      ]
     },
     "execution_count": 54,
     "metadata": {},
     "output_type": "execute_result"
    }
   ],
   "source": [
    "(ggplot(df_31)\n",
    " + aes(x='경도', y='위도', color='브랜드명')\n",
    " + geom_point()\n",
    " + theme(text=element_text(family='NanumBarunGothic'))\n",
    " + scale_fill_gradient(low = 'blue', high = 'green') \n",
    ")"
   ]
  },
  {
   "cell_type": "markdown",
   "metadata": {},
   "source": [
    "## Folium 사용예제\n",
    "http://nbviewer.jupyter.org/github/python-visualization/folium/tree/master/examples/  \n",
    "\n",
    "https://snscrawler.wordpress.com/tag/folium/  \n",
    "\n",
    "Folium은 기본적으로 ‘Open Street Map’을 기반으로 동작하지만   \n",
    "내부적으로는 ‘Stamen Terrain’, ‘Stamen Toner’, ‘Mapbox Bright’, 와 ‘Mapbox Control room tiles’ 형식을 내장하고 있다."
   ]
  },
  {
   "cell_type": "code",
   "execution_count": null,
   "metadata": {},
   "outputs": [],
   "source": [
    "!pip install folium"
   ]
  },
  {
   "cell_type": "code",
   "execution_count": null,
   "metadata": {},
   "outputs": [],
   "source": [
    "!pip show folium\n",
    "import folium"
   ]
  },
  {
   "cell_type": "code",
   "execution_count": null,
   "metadata": {},
   "outputs": [],
   "source": [
    "# folium.Map?"
   ]
  },
  {
   "cell_type": "code",
   "execution_count": null,
   "metadata": {},
   "outputs": [],
   "source": [
    "geo_df = df_31.copy()\n",
    "\n",
    "# 지도를 초기화 해줄 때 어디를 중심으로 보여줄지 설정합니다.\n",
    "# 우리가 가져온 데이터프레임 안에 있는 데이터를 기준으로 출력할 수 있도록 위경도의 평균값을 구해옵니다.\n",
    "map = folium.Map(location=[geo_df['위도'].mean(), geo_df['경도'].mean()], zoom_start=12)\n",
    "\n",
    "for n in geo_df.index:\n",
    "    # 팝업에 들어갈 텍스트를 지정해 줍니다.\n",
    "    popup_name = geo_df['브랜드명'][n] + ' - ' + geo_df['도로명주소'][n]\n",
    "    # 브랜드명에 따라 아이콘 색상을 달리해서 찍어줍니다.\n",
    "    if geo_df['브랜드명'][n] == '던킨도너츠' :\n",
    "        icon_color = 'pink'\n",
    "    else:\n",
    "        icon_color = 'blue'    \n",
    "    \n",
    "    folium.Marker([geo_df['위도'][n], geo_df['경도'][n]], \n",
    "                  popup=popup_name, \n",
    "                  icon=folium.Icon(color=icon_color)).add_to(map)\n",
    "\n",
    "# 해당경로에 파일로 저장한다.\n",
    "map.save('map.html')\n",
    "map"
   ]
  },
  {
   "cell_type": "code",
   "execution_count": null,
   "metadata": {},
   "outputs": [],
   "source": [
    "map = folium.Map(location=[geo_df['위도'].mean(), geo_df['경도'].mean()], zoom_start=12, tiles='Open Street Map')\n",
    "\n",
    "for n in geo_df.index:\n",
    "    # 팝업에 들어갈 텍스트를 지정해 줍니다.\n",
    "    popup_name = geo_df['브랜드명'][n] + ' - ' + geo_df['도로명주소'][n]\n",
    "    # 브랜드명에 따라 아이콘 색상을 달리해서 찍어줍니다.\n",
    "    if geo_df['브랜드명'][n] == '던킨도너츠' :\n",
    "        icon_color = 'red'\n",
    "    else:\n",
    "        icon_color = 'blue'    \n",
    "    \n",
    "    folium.CircleMarker(\n",
    "        location=[geo_df['위도'][n], geo_df['경도'][n]],\n",
    "        radius=3,\n",
    "        popup=popup_name,\n",
    "        color= icon_color,\n",
    "        fill=True,\n",
    "        fill_color=icon_color\n",
    "    ).add_to(map)\n",
    "map"
   ]
  },
  {
   "cell_type": "markdown",
   "metadata": {},
   "source": [
    "# 뚜레쥬르, 파리바게뜨 매장 위치 분석"
   ]
  },
  {
   "cell_type": "code",
   "execution_count": null,
   "metadata": {},
   "outputs": [],
   "source": [
    "df_bread = df_seoul.loc[\n",
    "    df_seoul['상호명'].str.contains('뚜레쥬르|파리(바게|크라상)') &\n",
    "    (~df_seoul['상호명'].str.contains('파스쿠찌|잠바주스'))\n",
    "].copy()\n",
    "# 파스쿠찌 상호명에 파리크라상이 들어가기 때문에 파스쿠찌는 제외합니다.\n",
    "df_bread.shape"
   ]
  },
  {
   "cell_type": "code",
   "execution_count": null,
   "metadata": {},
   "outputs": [],
   "source": [
    "df_bread['상호명'].value_counts()"
   ]
  },
  {
   "cell_type": "code",
   "execution_count": null,
   "metadata": {},
   "outputs": [],
   "source": [
    "df_bread.loc[df_bread['상호명'].str.contains('파리(바게|크라상)'), '브랜드명'] = '파리바게뜨'\n",
    "df_bread.loc[df_bread['상호명'].str.contains('뚜레(쥬|주)르'), '브랜드명'] = '뚜레쥬르'"
   ]
  },
  {
   "cell_type": "code",
   "execution_count": null,
   "metadata": {},
   "outputs": [],
   "source": [
    "df_bread_group_count = df_bread['브랜드명'].value_counts()\n",
    "df_bread_group_count"
   ]
  },
  {
   "cell_type": "code",
   "execution_count": null,
   "metadata": {},
   "outputs": [],
   "source": [
    "df_bread.shape"
   ]
  },
  {
   "cell_type": "code",
   "execution_count": null,
   "metadata": {},
   "outputs": [],
   "source": [
    "434 + 194"
   ]
  },
  {
   "cell_type": "code",
   "execution_count": null,
   "metadata": {},
   "outputs": [],
   "source": [
    "df_bread_ratio = df_bread_group_count[0]/df_bread_group_count[1]\n",
    "print('제공된 데이터로 봤을 때 서울에는 파리바게뜨가 뚜레쥬르보다 매장이 {0:.2f}배가량 많습니다.'.format(df_31_ratio))"
   ]
  },
  {
   "cell_type": "code",
   "execution_count": null,
   "metadata": {},
   "outputs": [],
   "source": [
    "798/244"
   ]
  },
  {
   "cell_type": "markdown",
   "metadata": {},
   "source": [
    "### 하지만, 파리바게뜨 홈페이지에서 서울특별시의 매장정보를 보면 798개의 매장이 있습니다. 뚜레쥬르는 244개의 매장이 있습니다.\n",
    "* 파리바게뜨 : https://www.paris.co.kr/store/store_list.jsp?sido=&gugun=&s_sido=%EC%84%9C%EC%9A%B8%ED%8A%B9%EB%B3%84%EC%8B%9C&s_gugun=&s_name=&page=98\n",
    "* 뚜레쥬르 : https://www.tlj.co.kr:7008/store/search.asp?store_type=&sido=%BC%AD%BF%EF%C6%AF%BA%B0%BD%C3&gugun=&keyword="
   ]
  },
  {
   "cell_type": "code",
   "execution_count": null,
   "metadata": {},
   "outputs": [],
   "source": [
    "(ggplot(df_bread)\n",
    " + aes(x='경도', y='위도', color='브랜드명')\n",
    " + geom_point()\n",
    " + theme(text=element_text(family='NanumBarunGothic'))\n",
    " + scale_fill_gradient(low = 'blue', high = 'green') \n",
    ")"
   ]
  },
  {
   "cell_type": "code",
   "execution_count": null,
   "metadata": {},
   "outputs": [],
   "source": [
    "geo_df = df_bread.copy()\n",
    "\n",
    "# 지도를 초기화 해줄 때 어디를 중심으로 보여줄지 설정합니다.\n",
    "# 우리가 가져온 데이터프레임 안에 있는 데이터를 기준으로 출력할 수 있도록 위경도의 평균값을 구해옵니다.\n",
    "map = folium.Map(location=[geo_df['위도'].mean(), geo_df['경도'].mean()], zoom_start=12)\n",
    "\n",
    "for n in geo_df.index:\n",
    "    # 팝업에 들어갈 텍스트를 지정해 줍니다.\n",
    "    popup_name = geo_df['브랜드명'][n] + ' - ' + geo_df['도로명주소'][n]\n",
    "    # 브랜드명에 따라 아이콘 색상을 달리해서 찍어줍니다.\n",
    "    if geo_df['브랜드명'][n] == '뚜레쥬르' :\n",
    "        icon_color = 'green'\n",
    "    else:\n",
    "        icon_color = 'blue'    \n",
    "    \n",
    "    folium.Marker([geo_df['위도'][n], geo_df['경도'][n]], \n",
    "                  popup=popup_name, \n",
    "                  icon=folium.Icon(color=icon_color)).add_to(map)\n",
    "\n",
    "map"
   ]
  },
  {
   "cell_type": "code",
   "execution_count": null,
   "metadata": {},
   "outputs": [],
   "source": [
    "map = folium.Map(location=[geo_df['위도'].mean(), geo_df['경도'].mean()], zoom_start=12, tiles='Stamen Toner')\n",
    "\n",
    "for n in geo_df.index:\n",
    "    # 팝업에 들어갈 텍스트를 지정해 줍니다.\n",
    "    popup_name = geo_df.loc[n, '브랜드명'] + ' - ' + geo_df.loc[n, '도로명주소']\n",
    "    # 브랜드명에 따라 아이콘 색상을 달리해서 찍어줍니다.\n",
    "    if geo_df.loc[n, '브랜드명'] == '뚜레쥬르' :\n",
    "        icon_color = 'green'\n",
    "    else:\n",
    "        icon_color = 'blue'    \n",
    "    \n",
    "    folium.CircleMarker(\n",
    "        location=[geo_df.loc[n,'위도'], geo_df.loc[n, '경도']],\n",
    "        radius=3,\n",
    "        popup=popup_name,\n",
    "        color= icon_color,\n",
    "        fill=True,\n",
    "        fill_color=icon_color\n",
    "    ).add_to(map)\n",
    "\n",
    "map"
   ]
  },
  {
   "cell_type": "markdown",
   "metadata": {},
   "source": [
    "## 스타벅스, 이디야 위치 분석\n",
    "* [[비즈&빅데이터]스타벅스 '쏠림' vs 이디야 '분산'](http://news.bizwatch.co.kr/article/consumer/2018/01/19/0015)"
   ]
  },
  {
   "cell_type": "code",
   "execution_count": null,
   "metadata": {},
   "outputs": [],
   "source": [
    "df_seoul.loc[df_seoul['상호명'].str.contains('스타벅스|starbucks|STARBUCKS'), '상호명'].shape"
   ]
  },
  {
   "cell_type": "code",
   "execution_count": null,
   "metadata": {},
   "outputs": [],
   "source": [
    "df_seoul.loc[df_seoul['상호명'].str.contains('이디야|ediya|EDIYA'), '상호명'].shape"
   ]
  },
  {
   "cell_type": "code",
   "execution_count": null,
   "metadata": {},
   "outputs": [],
   "source": [
    "df_cafe = df_seoul[df_seoul['상호명'].str.contains('스타벅스|starbucks|STARBUCKS|이디야|ediya|EDIYA')]\n",
    "df_cafe.shape"
   ]
  },
  {
   "cell_type": "code",
   "execution_count": null,
   "metadata": {},
   "outputs": [],
   "source": [
    "df_cafe.loc[df_cafe['상호명'].str.contains('스타벅스|starbucks|STARBUCKS'), '브랜드명'] = '스타벅스'"
   ]
  },
  {
   "cell_type": "code",
   "execution_count": null,
   "metadata": {},
   "outputs": [],
   "source": [
    "# df_cafe.loc[~df_cafe['상호명'].str.contains('스타벅스|starbucks|STARBUCKS'), '브랜드명'] = '이디야'"
   ]
  },
  {
   "cell_type": "code",
   "execution_count": null,
   "metadata": {},
   "outputs": [],
   "source": [
    "df_cafe['브랜드명'] = df_cafe['브랜드명'].fillna('이디야')"
   ]
  },
  {
   "cell_type": "code",
   "execution_count": null,
   "metadata": {},
   "outputs": [],
   "source": [
    "df_cafe.loc[df_cafe['브랜드명'].isnull(), '상호명'].head()"
   ]
  },
  {
   "cell_type": "code",
   "execution_count": null,
   "metadata": {},
   "outputs": [],
   "source": [
    "df_cafe[['상호명','브랜드명']].head()"
   ]
  },
  {
   "cell_type": "code",
   "execution_count": null,
   "metadata": {},
   "outputs": [],
   "source": [
    "df_cafe['브랜드명'].value_counts()"
   ]
  },
  {
   "cell_type": "code",
   "execution_count": null,
   "metadata": {},
   "outputs": [],
   "source": [
    "geo_df = df_cafe"
   ]
  },
  {
   "cell_type": "code",
   "execution_count": null,
   "metadata": {},
   "outputs": [],
   "source": [
    "map = folium.Map(location=[geo_df['위도'].mean(), geo_df['경도'].mean()], zoom_start=12, tiles='Stamen Toner')\n",
    "\n",
    "for n in geo_df.index:\n",
    "    # 팝업에 들어갈 텍스트를 지정해 줍니다.\n",
    "    popup_name = geo_df.loc[n, '상호명'] + ' - ' + geo_df.loc[n, '도로명주소']\n",
    "    # 브랜드명에 따라 아이콘 색상을 달리해서 찍어줍니다.\n",
    "    if geo_df.loc[n, '브랜드명'] == '스타벅스' :\n",
    "        icon_color = 'green'\n",
    "    else:\n",
    "        icon_color = 'blue'    \n",
    "    \n",
    "    folium.CircleMarker(\n",
    "        location=[geo_df.loc[n,'위도'], geo_df.loc[n, '경도']],\n",
    "        radius=3,\n",
    "        popup=popup_name,\n",
    "        color= icon_color,\n",
    "        fill=True,\n",
    "        fill_color=icon_color\n",
    "    ).add_to(map)\n",
    "\n",
    "map"
   ]
  },
  {
   "cell_type": "markdown",
   "metadata": {},
   "source": [
    "## 구별 브랜드별 점포수"
   ]
  },
  {
   "cell_type": "code",
   "execution_count": null,
   "metadata": {},
   "outputs": [],
   "source": [
    "df_cafe_brand = pd.DataFrame(\n",
    "    df_cafe.groupby(['시군구명', '브랜드명'])['상호명'].count()\n",
    ").reset_index()\n",
    "df_cafe_brand.columns = ['구', '브랜드명', '매장수']\n",
    "df_cafe_brand"
   ]
  },
  {
   "cell_type": "code",
   "execution_count": null,
   "metadata": {},
   "outputs": [],
   "source": [
    "(ggplot(df_cafe_brand)\n",
    " + aes(x='구', y='매장수', fill='브랜드명')\n",
    " + geom_bar(stat='identity', position='dodge')\n",
    " + ggtitle('구별 스타벅스 이디야 매장수')\n",
    " + theme(text=element_text(family='NanumBarunGothic'),\n",
    "        axis_text_x=element_text(rotation=60), \n",
    "        figure_size=(8, 4))\n",
    ")"
   ]
  },
  {
   "cell_type": "code",
   "execution_count": null,
   "metadata": {},
   "outputs": [],
   "source": [
    "df_cafe.groupby(['시군구명'])['상호명'].count()"
   ]
  },
  {
   "cell_type": "code",
   "execution_count": null,
   "metadata": {},
   "outputs": [],
   "source": [
    "df_cafe_gu = pd.DataFrame(df_cafe.groupby(['시군구명'])['상호명'].count())\n",
    "df_cafe_gu.head()"
   ]
  },
  {
   "cell_type": "markdown",
   "metadata": {},
   "source": [
    "## choropleth 그리기"
   ]
  },
  {
   "cell_type": "markdown",
   "metadata": {},
   "source": [
    "* 구별로 매장수를 표현하기 위해 GeoJSON 파일 로드\n",
    "    * 파일출처 : [southkorea/seoul-maps: Seoul administrative divisions in ESRI Shapefile, GeoJSON and TopoJSON formats.](https://github.com/southkorea/seoul-maps)"
   ]
  },
  {
   "cell_type": "code",
   "execution_count": null,
   "metadata": {},
   "outputs": [],
   "source": [
    "import json\n",
    "\n",
    "geo_path = 'data/seoul_municipalities_geo_simple.json'\n",
    "geo_json = json.load(open(geo_path, encoding='utf-8'))"
   ]
  },
  {
   "cell_type": "markdown",
   "metadata": {},
   "source": [
    "### 스타벅스 이디야 카페 매장 합계 분포"
   ]
  },
  {
   "cell_type": "code",
   "execution_count": null,
   "metadata": {},
   "outputs": [],
   "source": [
    "map = folium.Map(location=[geo_df['위도'].mean(), geo_df['경도'].mean()], \n",
    "                 zoom_start=11)\n",
    "\n",
    "map.choropleth(geo_data = geo_json,\n",
    "               data = df_cafe_gu['상호명'],\n",
    "               columns = [df_cafe_brand.index, df_cafe_gu['상호명']],\n",
    "               fill_color = 'Purples',\n",
    "               key_on = 'feature.properties.name',\n",
    "               fill_opacity=0.7,\n",
    "               line_opacity=0.2,\n",
    "               highlight=True)\n",
    "\n",
    "\n",
    "for n in geo_df.index:\n",
    "    # 팝업에 들어갈 텍스트를 지정해 줍니다.\n",
    "    popup_name = geo_df.loc[n, '상호명'] + ' - ' + geo_df.loc[n, '도로명주소']\n",
    "    # 브랜드명에 따라 아이콘 색상을 달리해서 찍어줍니다.\n",
    "    if geo_df.loc[n, '브랜드명'] == '스타벅스' :\n",
    "        icon_color = 'green'\n",
    "    else:\n",
    "        icon_color = 'blue'    \n",
    "    \n",
    "    folium.CircleMarker(\n",
    "        location=[geo_df.loc[n,'위도'], geo_df.loc[n, '경도']],\n",
    "        radius=3,\n",
    "        popup=popup_name,\n",
    "        color= icon_color,\n",
    "        fill=True,\n",
    "        fill_color=icon_color\n",
    "    ).add_to(map)\n",
    "\n",
    "map"
   ]
  },
  {
   "cell_type": "markdown",
   "metadata": {},
   "source": [
    "### 스타벅스 매장 분포"
   ]
  },
  {
   "cell_type": "code",
   "execution_count": null,
   "metadata": {},
   "outputs": [],
   "source": [
    "df_cafe_temp = df_cafe[df_cafe['브랜드명'] == '스타벅스']\n",
    "df_cafe_starbucks = pd.DataFrame(df_cafe_temp.groupby(['시군구명'])['상호명'].count())\n",
    "df_cafe_starbucks.columns = ['매장수']\n",
    "df_cafe_starbucks.head()"
   ]
  },
  {
   "cell_type": "code",
   "execution_count": null,
   "metadata": {},
   "outputs": [],
   "source": [
    "map = folium.Map(location=[geo_df['위도'].mean(), geo_df['경도'].mean()], \n",
    "                 zoom_start=11, tiles='Stamen Toner')\n",
    "\n",
    "map.choropleth(geo_data = geo_json,\n",
    "               data = df_cafe_starbucks['매장수'],\n",
    "               columns = [df_cafe_starbucks.index, df_cafe_starbucks['매장수']],\n",
    "               fill_color = 'YlGn',\n",
    "               key_on = 'feature.properties.name',\n",
    "               fill_opacity=0.7,\n",
    "               line_opacity=0.2,\n",
    "               highlight=True)\n",
    "\n",
    "\n",
    "for n in geo_df.index:\n",
    "    # 팝업에 들어갈 텍스트를 지정해 줍니다.\n",
    "    popup_name = geo_df.loc[n, '상호명'] + ' - ' + geo_df.loc[n, '도로명주소']\n",
    "    # 브랜드명에 따라 아이콘 색상을 달리해서 찍어줍니다.\n",
    "    if geo_df.loc[n, '브랜드명'] == '스타벅스' :\n",
    "        icon_color = 'green'    \n",
    "    \n",
    "        folium.CircleMarker(\n",
    "            location=[geo_df.loc[n,'위도'], geo_df.loc[n, '경도']],\n",
    "            radius=3,\n",
    "            popup=popup_name,\n",
    "            color= icon_color,\n",
    "            fill=True,\n",
    "            fill_color=icon_color\n",
    "        ).add_to(map)\n",
    "\n",
    "map"
   ]
  },
  {
   "cell_type": "markdown",
   "metadata": {},
   "source": [
    "### 이디야 매장 분포"
   ]
  },
  {
   "cell_type": "code",
   "execution_count": null,
   "metadata": {},
   "outputs": [],
   "source": [
    "df_cafe_temp = df_cafe[df_cafe['브랜드명'] == '이디야']\n",
    "df_cafe_ediya = pd.DataFrame(df_cafe_temp.groupby(['시군구명'])['상호명'].count())\n",
    "df_cafe_ediya.columns = ['매장수']\n",
    "df_cafe_ediya.head()"
   ]
  },
  {
   "cell_type": "code",
   "execution_count": null,
   "metadata": {},
   "outputs": [],
   "source": [
    "map = folium.Map(location=[geo_df['위도'].mean(), geo_df['경도'].mean()], \n",
    "                 zoom_start=11, tiles='Stamen Toner')\n",
    "\n",
    "map.choropleth(geo_data = geo_json,\n",
    "               data = df_cafe_ediya['매장수'],\n",
    "               columns = [df_cafe_ediya.index, df_cafe_ediya['매장수']],\n",
    "               fill_color = 'PuBu',\n",
    "               key_on = 'feature.properties.name',\n",
    "               fill_opacity=0.7,\n",
    "               line_opacity=0.2,\n",
    "               highlight=True)\n",
    "\n",
    "\n",
    "for n in geo_df.index:\n",
    "    # 팝업에 들어갈 텍스트를 지정해 줍니다.\n",
    "    popup_name = geo_df.loc[n, '상호명'] + ' - ' + geo_df.loc[n, '도로명주소']\n",
    "    # 브랜드명에 따라 아이콘 색상을 달리해서 찍어줍니다.\n",
    "    if geo_df.loc[n, '브랜드명'] == '이디야' :\n",
    "        icon_color = 'blue'    \n",
    "    \n",
    "        folium.CircleMarker(\n",
    "            location=[geo_df.loc[n,'위도'], geo_df.loc[n, '경도']],\n",
    "            radius=3,\n",
    "            popup=popup_name,\n",
    "            color= icon_color,\n",
    "            fill=True,\n",
    "            fill_color=icon_color\n",
    "        ).add_to(map)\n",
    "\n",
    "map"
   ]
  },
  {
   "cell_type": "markdown",
   "metadata": {},
   "source": [
    "## 매장수 크기를 반영해 CircleMaker 그리기\n",
    "### Pandas 의 reshaping data 활용하기\n",
    "\n",
    "<img src=\"https://i.imgur.com/IIhU0nF.png\">\n",
    "\n",
    "* 출처 : https://github.com/pandas-dev/pandas/blob/master/doc/cheatsheet/Pandas_Cheat_Sheet.pdf\n",
    "* reshaping 관련 문서 : https://pandas.pydata.org/pandas-docs/stable/user_guide/reshaping.html"
   ]
  },
  {
   "cell_type": "code",
   "execution_count": null,
   "metadata": {},
   "outputs": [],
   "source": [
    "df_cafe_brand.head()"
   ]
  },
  {
   "cell_type": "code",
   "execution_count": null,
   "metadata": {},
   "outputs": [],
   "source": [
    "df_cafe_brand_vs = df_cafe_brand.pivot_table(index='구',\n",
    "                                             columns='브랜드명',\n",
    "                                             values='매장수')\n",
    "df_cafe_brand_vs.columns = ['스타벅스', '이디야']\n",
    "df_cafe_brand_vs.head()"
   ]
  },
  {
   "cell_type": "code",
   "execution_count": null,
   "metadata": {},
   "outputs": [],
   "source": [
    "df_cafe_brand_vs['매장수비교'] = df_cafe_brand_vs.apply( \\\n",
    "    lambda x : 1 if x['스타벅스'] > x['이디야'] else 0, axis=1)\n",
    "df_cafe_brand_vs.head()"
   ]
  },
  {
   "cell_type": "code",
   "execution_count": null,
   "metadata": {},
   "outputs": [],
   "source": [
    "lng_list = []\n",
    "lat_list = []\n",
    "for gu in df_cafe_brand_vs.index:\n",
    "    lat = df_cafe.loc[df_cafe['시군구명'] == gu, '위도'].mean()\n",
    "    lng = df_cafe.loc[df_cafe['시군구명'] == gu, '경도'].mean()\n",
    "    lat_list.append(lat)\n",
    "    lng_list.append(lng)\n",
    "    \n",
    "df_cafe_brand_vs['위도'] = lat_list\n",
    "df_cafe_brand_vs['경도'] = lng_list\n",
    "df_cafe_brand_vs.head()"
   ]
  },
  {
   "cell_type": "code",
   "execution_count": null,
   "metadata": {},
   "outputs": [],
   "source": [
    "# CircleMarker의 radius 지정시 다음과 같은 타입오류가 나서 float type 으로 변경\n",
    "# TypeError: Object of type 'int64' is not JSON serializable\n",
    "\n",
    "df_cafe_brand_vs['스타벅스'] = df_cafe_brand_vs['스타벅스'].astype(float)\n",
    "df_cafe_brand_vs['이디야'] = df_cafe_brand_vs['이디야'].astype(float)\n",
    "df_cafe_brand_vs.info()"
   ]
  },
  {
   "cell_type": "code",
   "execution_count": null,
   "metadata": {},
   "outputs": [],
   "source": [
    "map = folium.Map(location=[geo_df['위도'].mean(), geo_df['경도'].mean()], \n",
    "                 zoom_start=11, tiles='Stamen Toner')\n",
    "\n",
    "map.choropleth(geo_data = geo_json,\n",
    "               data = df_cafe_brand_vs['매장수비교'],\n",
    "               columns = [df_cafe_brand_vs.index, \n",
    "                          df_cafe_brand_vs['매장수비교']],\n",
    "               fill_color = 'BuGn',\n",
    "               key_on = 'feature.properties.name',\n",
    "               fill_opacity=0.7,\n",
    "               line_opacity=0.2,\n",
    "               highlight=True)\n",
    "\n",
    "\n",
    "for gu in df_cafe_brand_vs.index:\n",
    "        \n",
    "    for cafe in ['스타벅스', '이디야']:\n",
    "        \n",
    "        cafe_count = df_cafe_brand_vs.loc[gu, cafe]\n",
    "        msg = f'{gu} {cafe} 매장수 : {cafe_count:.0f}'\n",
    "        \n",
    "        icon_color = 'blue'\n",
    "        if cafe == '스타벅스': \n",
    "            icon_color = 'green'\n",
    "        \n",
    "        folium.CircleMarker(\n",
    "            location = [df_cafe_brand_vs.loc[gu,'위도'], \n",
    "                      df_cafe_brand_vs.loc[gu, '경도']],\n",
    "            radius = cafe_count,\n",
    "            color = icon_color,\n",
    "            popup = msg,\n",
    "            fill = True,\n",
    "            fill_color = icon_color\n",
    "        ).add_to(map)\n",
    "\n",
    "map"
   ]
  },
  {
   "cell_type": "markdown",
   "metadata": {},
   "source": [
    "#### 지도 출력 시 색상 참고\n",
    "* http://colorbrewer2.org/"
   ]
  },
  {
   "cell_type": "markdown",
   "metadata": {},
   "source": [
    "## folium 공부를 위해 더 읽어보면 좋을 것 \n",
    "* https://nbviewer.jupyter.org/github/python-visualization/folium/tree/master/examples/\n",
    "* https://python-visualization.github.io/folium/quickstart.html#Choropleth-maps\n",
    "* [PinkWink의 데이터 사이언스 관련 책 - 파이썬으로 데이터 주무르기](https://pinkwink.kr/1070)"
   ]
  },
  {
   "cell_type": "markdown",
   "metadata": {},
   "source": [
    "## 카토그램 \n",
    "* [총선⑫ 인구 비례로 본 당선 지도…‘카토그램’으로 살펴본 당선 현황 > 데이터룸 > 정치 > 뉴스 | KBSNEWS](http://news.kbs.co.kr/news/view.do?ncd=3264019)\n",
    "* [The Housing Value of Every County in the U.S. - Metrocosm](http://metrocosm.com/the-housing-value-of-every-county-in-the-u-s/)"
   ]
  },
  {
   "cell_type": "code",
   "execution_count": null,
   "metadata": {},
   "outputs": [],
   "source": []
  }
 ],
 "metadata": {
  "kernelspec": {
   "display_name": "Python 3",
   "language": "python",
   "name": "python3"
  },
  "language_info": {
   "codemirror_mode": {
    "name": "ipython",
    "version": 3
   },
   "file_extension": ".py",
   "mimetype": "text/x-python",
   "name": "python",
   "nbconvert_exporter": "python",
   "pygments_lexer": "ipython3",
   "version": "3.6.5"
  }
 },
 "nbformat": 4,
 "nbformat_minor": 2
}
