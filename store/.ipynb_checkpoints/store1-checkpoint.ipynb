{
 "cells": [
  {
   "cell_type": "markdown",
   "metadata": {},
   "source": [
    "# 공공데이터 상권정보 분석해 보기\n",
    "* https://www.data.go.kr/dataset/15012005/fileData.do\n",
    "* 국가중점데이터인 상권정보를 살펴봅니다.\n",
    "* 처음으로 파일데이터에서 상권별 업종밀집통계정보를 다운로드 받아봅니다."
   ]
  },
  {
   "cell_type": "code",
   "execution_count": 1,
   "metadata": {},
   "outputs": [],
   "source": [
    "import warnings\n",
    "warnings.filterwarnings('ignore')"
   ]
  },
  {
   "cell_type": "code",
   "execution_count": 2,
   "metadata": {},
   "outputs": [
    {
     "name": "stdout",
     "output_type": "stream",
     "text": [
      "Collecting missingno\n",
      "  Downloading https://files.pythonhosted.org/packages/57/eb/9d7d55ceec57e0e374e70e9ad8d16795ba91960a3c987f3b5ee71d3e8e4d/missingno-0.4.1-py3-none-any.whl\n",
      "Requirement already satisfied: numpy in c:\\users\\user\\anaconda3\\lib\\site-packages (from missingno) (1.14.3)\n",
      "Requirement already satisfied: seaborn in c:\\users\\user\\anaconda3\\lib\\site-packages (from missingno) (0.8.1)\n",
      "Requirement already satisfied: matplotlib in c:\\users\\user\\anaconda3\\lib\\site-packages (from missingno) (2.2.2)\n",
      "Requirement already satisfied: scipy in c:\\users\\user\\anaconda3\\lib\\site-packages (from missingno) (1.1.0)\n",
      "Requirement already satisfied: pandas in c:\\users\\user\\anaconda3\\lib\\site-packages (from seaborn->missingno) (0.23.0)\n",
      "Requirement already satisfied: cycler>=0.10 in c:\\users\\user\\anaconda3\\lib\\site-packages (from matplotlib->missingno) (0.10.0)\n",
      "Requirement already satisfied: pyparsing!=2.0.4,!=2.1.2,!=2.1.6,>=2.0.1 in c:\\users\\user\\anaconda3\\lib\\site-packages (from matplotlib->missingno) (2.2.0)\n",
      "Requirement already satisfied: python-dateutil>=2.1 in c:\\users\\user\\anaconda3\\lib\\site-packages (from matplotlib->missingno) (2.7.3)\n",
      "Requirement already satisfied: pytz in c:\\users\\user\\anaconda3\\lib\\site-packages (from matplotlib->missingno) (2018.4)\n",
      "Requirement already satisfied: six>=1.10 in c:\\users\\user\\appdata\\roaming\\python\\python36\\site-packages (from matplotlib->missingno) (1.12.0)\n",
      "Requirement already satisfied: kiwisolver>=1.0.1 in c:\\users\\user\\anaconda3\\lib\\site-packages (from matplotlib->missingno) (1.0.1)\n",
      "Requirement already satisfied: setuptools in c:\\users\\user\\anaconda3\\lib\\site-packages (from kiwisolver>=1.0.1->matplotlib->missingno) (39.1.0)\n",
      "Installing collected packages: missingno\n",
      "Successfully installed missingno-0.4.1\n"
     ]
    }
   ],
   "source": [
    "!pip install missingno"
   ]
  },
  {
   "cell_type": "code",
   "execution_count": 3,
   "metadata": {},
   "outputs": [
    {
     "name": "stdout",
     "output_type": "stream",
     "text": [
      "Collecting plotnine\n",
      "  Downloading https://files.pythonhosted.org/packages/84/02/b171c828560aea3a5da1efda464230dac3ef4f4834b88e0bd52ad14a08f0/plotnine-0.5.1-py2.py3-none-any.whl (3.6MB)\n",
      "Collecting matplotlib>=3.0.0 (from plotnine)\n",
      "  Downloading https://files.pythonhosted.org/packages/21/4c/35fa1837a705f33621604a1967b1505bd3f695940fdf02fad77ef11de196/matplotlib-3.0.3-cp36-cp36m-win_amd64.whl (9.1MB)\n",
      "Requirement already satisfied: statsmodels>=0.8.0 in c:\\users\\user\\anaconda3\\lib\\site-packages (from plotnine) (0.9.0)\n",
      "Requirement already satisfied: numpy in c:\\users\\user\\anaconda3\\lib\\site-packages (from plotnine) (1.14.3)\n",
      "Collecting pandas>=0.23.4 (from plotnine)\n",
      "  Downloading https://files.pythonhosted.org/packages/d0/4e/9db3468e504ac9aeadb37eb32bcf0a74d063d24ad1471104bd8a7ba20c97/pandas-0.24.2-cp36-cp36m-win_amd64.whl (8.8MB)\n",
      "Requirement already satisfied: scipy>=1.0.0 in c:\\users\\user\\anaconda3\\lib\\site-packages (from plotnine) (1.1.0)\n",
      "Requirement already satisfied: patsy>=0.4.1 in c:\\users\\user\\anaconda3\\lib\\site-packages (from plotnine) (0.5.0)\n",
      "Collecting mizani>=0.5.2 (from plotnine)\n",
      "  Downloading https://files.pythonhosted.org/packages/d6/57/dd70eedf5d85cb328f73bbc661b7680f15bfebb07d8dabc3bda7de9faa7c/mizani-0.5.4-py2.py3-none-any.whl (58kB)\n",
      "Collecting descartes>=1.1.0 (from plotnine)\n",
      "  Downloading https://files.pythonhosted.org/packages/e5/b6/1ed2eb03989ae574584664985367ba70cd9cf8b32ee8cad0e8aaeac819f3/descartes-1.1.0-py3-none-any.whl\n",
      "Requirement already satisfied: cycler>=0.10 in c:\\users\\user\\anaconda3\\lib\\site-packages (from matplotlib>=3.0.0->plotnine) (0.10.0)\n",
      "Requirement already satisfied: python-dateutil>=2.1 in c:\\users\\user\\anaconda3\\lib\\site-packages (from matplotlib>=3.0.0->plotnine) (2.7.3)\n",
      "Requirement already satisfied: kiwisolver>=1.0.1 in c:\\users\\user\\anaconda3\\lib\\site-packages (from matplotlib>=3.0.0->plotnine) (1.0.1)\n",
      "Requirement already satisfied: pyparsing!=2.0.4,!=2.1.2,!=2.1.6,>=2.0.1 in c:\\users\\user\\anaconda3\\lib\\site-packages (from matplotlib>=3.0.0->plotnine) (2.2.0)\n",
      "Requirement already satisfied: pytz>=2011k in c:\\users\\user\\anaconda3\\lib\\site-packages (from pandas>=0.23.4->plotnine) (2018.4)\n",
      "Requirement already satisfied: six in c:\\users\\user\\appdata\\roaming\\python\\python36\\site-packages (from patsy>=0.4.1->plotnine) (1.12.0)\n",
      "Collecting palettable (from mizani>=0.5.2->plotnine)\n",
      "  Downloading https://files.pythonhosted.org/packages/56/8a/84537c0354f0d1f03bf644b71bf8e0a50db9c1294181905721a5f3efbf66/palettable-3.1.1-py2.py3-none-any.whl (77kB)\n",
      "Requirement already satisfied: setuptools in c:\\users\\user\\anaconda3\\lib\\site-packages (from kiwisolver>=1.0.1->matplotlib>=3.0.0->plotnine) (39.1.0)\n",
      "Installing collected packages: matplotlib, pandas, palettable, mizani, descartes, plotnine\n",
      "  Found existing installation: matplotlib 2.2.2\n",
      "    Uninstalling matplotlib-2.2.2:\n",
      "      Successfully uninstalled matplotlib-2.2.2\n",
      "  Found existing installation: pandas 0.23.0\n",
      "    Uninstalling pandas-0.23.0:\n",
      "      Successfully uninstalled pandas-0.23.0\n",
      "Successfully installed descartes-1.1.0 matplotlib-3.0.3 mizani-0.5.4 palettable-3.1.1 pandas-0.24.2 plotnine-0.5.1\n"
     ]
    }
   ],
   "source": [
    "!pip install plotnine"
   ]
  },
  {
   "cell_type": "code",
   "execution_count": 6,
   "metadata": {},
   "outputs": [
    {
     "name": "stdout",
     "output_type": "stream",
     "text": [
      "Name: missingno\n",
      "Version: 0.4.1\n",
      "Summary: Missing data visualization module for Python.\n",
      "Home-page: https://github.com/ResidentMario/missingno\n",
      "Author: Aleksey Bilogur\n",
      "Author-email: aleksey.bilogur@gmail.com\n",
      "License: UNKNOWN\n",
      "Location: c:\\users\\user\\anaconda3\\lib\\site-packages\n",
      "Requires: numpy, matplotlib, seaborn, scipy\n",
      "Required-by: \n",
      "Name: plotnine\n",
      "Version: 0.5.1\n",
      "Summary: A grammar of graphics for python\n",
      "Home-page: https://github.com/has2k1/plotnine\n",
      "Author: None\n",
      "Author-email: None\n",
      "License: GPL-2\n",
      "Location: c:\\users\\user\\anaconda3\\lib\\site-packages\n",
      "Requires: descartes, numpy, patsy, scipy, matplotlib, mizani, pandas, statsmodels\n",
      "Required-by: \n"
     ]
    }
   ],
   "source": [
    "!pip show missingno\n",
    "!pip show plotnine"
   ]
  },
  {
   "cell_type": "code",
   "execution_count": 7,
   "metadata": {},
   "outputs": [],
   "source": [
    "import pandas as pd\n",
    "from plotnine import *"
   ]
  },
  {
   "cell_type": "code",
   "execution_count": 8,
   "metadata": {},
   "outputs": [
    {
     "data": {
      "text/plain": [
       "'D:\\\\gittest\\\\test\\\\test\\\\pythonwork\\\\store'"
      ]
     },
     "execution_count": 8,
     "metadata": {},
     "output_type": "execute_result"
    }
   ],
   "source": [
    "# 현재 위치정보를 봅니다.\n",
    "%pwd"
   ]
  },
  {
   "cell_type": "code",
   "execution_count": 9,
   "metadata": {},
   "outputs": [
    {
     "name": "stdout",
     "output_type": "stream",
     "text": [
      " D 드라이브의 볼륨에는 이름이 없습니다.\n",
      " 볼륨 일련 번호: 0006-765E\n",
      "\n",
      " D:\\gittest\\test\\test\\pythonwork\\store\\data 디렉터리\n",
      "\n",
      "2019-03-30  오후 12:43    <DIR>          .\n",
      "2019-03-30  오후 12:43    <DIR>          ..\n",
      "2019-03-30  오전 09:12           228,781 foo1.csv\n",
      "2019-03-30  오전 11:22        42,574,428 상권별_업종밀집통계_2017_.csv\n",
      "2019-03-12  오전 09:47       229,310,855 소상공인시장진흥공단_상가업소정보_201812_1.csv\n",
      "2019-03-12  오전 09:59       209,210,018 소상공인시장진흥공단_상가업소정보_201812_2.csv\n",
      "2019-03-12  오전 10:20       350,285,333 소상공인시장진흥공단_상가업소정보_201812_3.csv\n",
      "2019-03-12  오전 10:36       318,748,011 소상공인시장진흥공단_상가업소정보_201812_4.csv\n",
      "               6개 파일       1,150,357,426 바이트\n",
      "               2개 디렉터리  411,148,214,272 바이트 남음\n"
     ]
    }
   ],
   "source": [
    "%ls data"
   ]
  },
  {
   "cell_type": "markdown",
   "metadata": {},
   "source": [
    "# 2016년 상권별 업종밀집 통계\n",
    "* 상권별 밀집도를 보여준다."
   ]
  },
  {
   "cell_type": "code",
   "execution_count": 11,
   "metadata": {},
   "outputs": [
    {
     "data": {
      "text/plain": [
       "(824275, 6)"
      ]
     },
     "execution_count": 11,
     "metadata": {},
     "output_type": "execute_result"
    }
   ],
   "source": [
    "shop = pd.read_csv('data/상권별_업종밀집통계_2017_.csv',  engine='python')\n",
    "shop.shape"
   ]
  },
  {
   "cell_type": "code",
   "execution_count": 12,
   "metadata": {},
   "outputs": [
    {
     "name": "stdout",
     "output_type": "stream",
     "text": [
      "<class 'pandas.core.frame.DataFrame'>\n",
      "RangeIndex: 824275 entries, 0 to 824274\n",
      "Data columns (total 6 columns):\n",
      "상권명칭         824275 non-null object\n",
      "상권번호         824275 non-null int64\n",
      "관리년월         824275 non-null int64\n",
      "대분류명         824275 non-null object\n",
      "중분류명         519760 non-null object\n",
      "과밀지수(밀집도)    824275 non-null float64\n",
      "dtypes: float64(1), int64(2), object(3)\n",
      "memory usage: 37.7+ MB\n"
     ]
    }
   ],
   "source": [
    "shop.info()"
   ]
  },
  {
   "cell_type": "code",
   "execution_count": 26,
   "metadata": {},
   "outputs": [
    {
     "data": {
      "text/plain": [
       "상권명칭          object\n",
       "상권번호           int64\n",
       "관리년월           int64\n",
       "대분류명          object\n",
       "중분류명          object\n",
       "과밀지수(밀집도)    float64\n",
       "dtype: object"
      ]
     },
     "execution_count": 26,
     "metadata": {},
     "output_type": "execute_result"
    }
   ],
   "source": [
    "shop.dtypes"
   ]
  },
  {
   "cell_type": "code",
   "execution_count": 27,
   "metadata": {},
   "outputs": [
    {
     "data": {
      "text/html": [
       "<div>\n",
       "<style scoped>\n",
       "    .dataframe tbody tr th:only-of-type {\n",
       "        vertical-align: middle;\n",
       "    }\n",
       "\n",
       "    .dataframe tbody tr th {\n",
       "        vertical-align: top;\n",
       "    }\n",
       "\n",
       "    .dataframe thead th {\n",
       "        text-align: right;\n",
       "    }\n",
       "</style>\n",
       "<table border=\"1\" class=\"dataframe\">\n",
       "  <thead>\n",
       "    <tr style=\"text-align: right;\">\n",
       "      <th></th>\n",
       "      <th>상권명칭</th>\n",
       "      <th>상권번호</th>\n",
       "      <th>관리년월</th>\n",
       "      <th>대분류명</th>\n",
       "      <th>중분류명</th>\n",
       "      <th>과밀지수(밀집도)</th>\n",
       "    </tr>\n",
       "  </thead>\n",
       "  <tbody>\n",
       "    <tr>\n",
       "      <th>0</th>\n",
       "      <td>인천종합터미널</td>\n",
       "      <td>1713</td>\n",
       "      <td>201701</td>\n",
       "      <td>소매</td>\n",
       "      <td>가전제품소매</td>\n",
       "      <td>0.9847</td>\n",
       "    </tr>\n",
       "    <tr>\n",
       "      <th>1</th>\n",
       "      <td>송우리시외버스터미널_2</td>\n",
       "      <td>2399</td>\n",
       "      <td>201701</td>\n",
       "      <td>소매</td>\n",
       "      <td>가전제품소매</td>\n",
       "      <td>1.6518</td>\n",
       "    </tr>\n",
       "    <tr>\n",
       "      <th>2</th>\n",
       "      <td>남선공원</td>\n",
       "      <td>1217</td>\n",
       "      <td>201701</td>\n",
       "      <td>소매</td>\n",
       "      <td>가전제품소매</td>\n",
       "      <td>0.4912</td>\n",
       "    </tr>\n",
       "    <tr>\n",
       "      <th>3</th>\n",
       "      <td>인천 연수구 연수2동_1</td>\n",
       "      <td>1683</td>\n",
       "      <td>201701</td>\n",
       "      <td>소매</td>\n",
       "      <td>가전제품소매</td>\n",
       "      <td>1.7180</td>\n",
       "    </tr>\n",
       "    <tr>\n",
       "      <th>4</th>\n",
       "      <td>부산 연제구 연산동역_4</td>\n",
       "      <td>439</td>\n",
       "      <td>201701</td>\n",
       "      <td>소매</td>\n",
       "      <td>가전제품소매</td>\n",
       "      <td>2.1680</td>\n",
       "    </tr>\n",
       "  </tbody>\n",
       "</table>\n",
       "</div>"
      ],
      "text/plain": [
       "            상권명칭  상권번호    관리년월 대분류명    중분류명  과밀지수(밀집도)\n",
       "0        인천종합터미널  1713  201701   소매  가전제품소매     0.9847\n",
       "1   송우리시외버스터미널_2  2399  201701   소매  가전제품소매     1.6518\n",
       "2           남선공원  1217  201701   소매  가전제품소매     0.4912\n",
       "3  인천 연수구 연수2동_1  1683  201701   소매  가전제품소매     1.7180\n",
       "4  부산 연제구 연산동역_4   439  201701   소매  가전제품소매     2.1680"
      ]
     },
     "execution_count": 27,
     "metadata": {},
     "output_type": "execute_result"
    }
   ],
   "source": [
    "shop.head()"
   ]
  },
  {
   "cell_type": "code",
   "execution_count": 28,
   "metadata": {},
   "outputs": [
    {
     "data": {
      "text/html": [
       "<div>\n",
       "<style scoped>\n",
       "    .dataframe tbody tr th:only-of-type {\n",
       "        vertical-align: middle;\n",
       "    }\n",
       "\n",
       "    .dataframe tbody tr th {\n",
       "        vertical-align: top;\n",
       "    }\n",
       "\n",
       "    .dataframe thead th {\n",
       "        text-align: right;\n",
       "    }\n",
       "</style>\n",
       "<table border=\"1\" class=\"dataframe\">\n",
       "  <thead>\n",
       "    <tr style=\"text-align: right;\">\n",
       "      <th></th>\n",
       "      <th>상권명칭</th>\n",
       "      <th>상권번호</th>\n",
       "      <th>관리년월</th>\n",
       "      <th>대분류명</th>\n",
       "      <th>중분류명</th>\n",
       "      <th>과밀지수(밀집도)</th>\n",
       "    </tr>\n",
       "  </thead>\n",
       "  <tbody>\n",
       "    <tr>\n",
       "      <th>824270</th>\n",
       "      <td>제주시청</td>\n",
       "      <td>20</td>\n",
       "      <td>201712</td>\n",
       "      <td>소매</td>\n",
       "      <td>NaN</td>\n",
       "      <td>0.4968</td>\n",
       "    </tr>\n",
       "    <tr>\n",
       "      <th>824271</th>\n",
       "      <td>전북 군산시 수송동_1</td>\n",
       "      <td>1045</td>\n",
       "      <td>201712</td>\n",
       "      <td>업종분류불능</td>\n",
       "      <td>NaN</td>\n",
       "      <td>1.3153</td>\n",
       "    </tr>\n",
       "    <tr>\n",
       "      <th>824272</th>\n",
       "      <td>단구동 프리미엄아울렛</td>\n",
       "      <td>2536</td>\n",
       "      <td>201712</td>\n",
       "      <td>업종분류불능</td>\n",
       "      <td>NaN</td>\n",
       "      <td>1.0946</td>\n",
       "    </tr>\n",
       "    <tr>\n",
       "      <th>824273</th>\n",
       "      <td>충북 제천시 중앙.의림_1</td>\n",
       "      <td>1453</td>\n",
       "      <td>201712</td>\n",
       "      <td>업종분류불능</td>\n",
       "      <td>NaN</td>\n",
       "      <td>1.0575</td>\n",
       "    </tr>\n",
       "    <tr>\n",
       "      <th>824274</th>\n",
       "      <td>전남 목포시 신흥동_4</td>\n",
       "      <td>99</td>\n",
       "      <td>201712</td>\n",
       "      <td>소매</td>\n",
       "      <td>NaN</td>\n",
       "      <td>1.5871</td>\n",
       "    </tr>\n",
       "  </tbody>\n",
       "</table>\n",
       "</div>"
      ],
      "text/plain": [
       "                  상권명칭  상권번호    관리년월    대분류명 중분류명  과밀지수(밀집도)\n",
       "824270            제주시청    20  201712      소매  NaN     0.4968\n",
       "824271    전북 군산시 수송동_1  1045  201712  업종분류불능  NaN     1.3153\n",
       "824272     단구동 프리미엄아울렛  2536  201712  업종분류불능  NaN     1.0946\n",
       "824273  충북 제천시 중앙.의림_1  1453  201712  업종분류불능  NaN     1.0575\n",
       "824274    전남 목포시 신흥동_4    99  201712      소매  NaN     1.5871"
      ]
     },
     "execution_count": 28,
     "metadata": {},
     "output_type": "execute_result"
    }
   ],
   "source": [
    "shop.tail()"
   ]
  },
  {
   "cell_type": "code",
   "execution_count": 29,
   "metadata": {},
   "outputs": [
    {
     "data": {
      "text/plain": [
       "소매        810093\n",
       "업종분류불능     14182\n",
       "Name: 대분류명, dtype: int64"
      ]
     },
     "execution_count": 29,
     "metadata": {},
     "output_type": "execute_result"
    }
   ],
   "source": [
    "shop['대분류명'].value_counts()"
   ]
  },
  {
   "cell_type": "code",
   "execution_count": 30,
   "metadata": {},
   "outputs": [
    {
     "data": {
      "text/plain": [
       "건강/미용식품         99494\n",
       "유아용품            89464\n",
       "의약/의료품소매        81969\n",
       "철물/난방/건설자재소매    79848\n",
       "페인트/유리제품소매      74268\n",
       "가전제품소매          71992\n",
       "자동차/자동차용품       22725\n",
       "Name: 중분류명, dtype: int64"
      ]
     },
     "execution_count": 30,
     "metadata": {},
     "output_type": "execute_result"
    }
   ],
   "source": [
    "shop['중분류명'].value_counts()"
   ]
  },
  {
   "cell_type": "markdown",
   "metadata": {},
   "source": [
    "# 상가업소정보 2018년 12월"
   ]
  },
  {
   "cell_type": "code",
   "execution_count": 18,
   "metadata": {},
   "outputs": [
    {
     "name": "stdout",
     "output_type": "stream",
     "text": [
      " D 드라이브의 볼륨에는 이름이 없습니다.\n",
      " 볼륨 일련 번호: 0006-765E\n",
      "\n",
      " D:\\gittest\\test\\test\\pythonwork\\store\\data 디렉터리\n",
      "\n",
      "2019-03-30  오후 12:43    <DIR>          .\n",
      "2019-03-30  오후 12:43    <DIR>          ..\n",
      "2019-03-30  오전 09:12           228,781 foo1.csv\n",
      "2019-03-30  오전 11:22        42,574,428 상권별_업종밀집통계_2017_.csv\n",
      "2019-03-12  오전 09:47       229,310,855 소상공인시장진흥공단_상가업소정보_201812_1.csv\n",
      "2019-03-12  오전 09:59       209,210,018 소상공인시장진흥공단_상가업소정보_201812_2.csv\n",
      "2019-03-12  오전 10:20       350,285,333 소상공인시장진흥공단_상가업소정보_201812_3.csv\n",
      "2019-03-12  오전 10:36       318,748,011 소상공인시장진흥공단_상가업소정보_201812_4.csv\n",
      "               6개 파일       1,150,357,426 바이트\n",
      "               2개 디렉터리  411,148,173,312 바이트 남음\n"
     ]
    }
   ],
   "source": [
    "%ls data"
   ]
  },
  {
   "cell_type": "code",
   "execution_count": 19,
   "metadata": {},
   "outputs": [
    {
     "data": {
      "text/plain": [
       "(499328, 39)"
      ]
     },
     "execution_count": 19,
     "metadata": {},
     "output_type": "execute_result"
    }
   ],
   "source": [
    "# 상가업소정보 2018년 6월 데이터\n",
    "shop_2018_12 = pd.read_csv('data/소상공인시장진흥공단_상가업소정보_201812_1.csv', engine='python')\n",
    "shop_2018_12.shape"
   ]
  },
  {
   "cell_type": "code",
   "execution_count": 20,
   "metadata": {},
   "outputs": [
    {
     "data": {
      "text/html": [
       "<div>\n",
       "<style scoped>\n",
       "    .dataframe tbody tr th:only-of-type {\n",
       "        vertical-align: middle;\n",
       "    }\n",
       "\n",
       "    .dataframe tbody tr th {\n",
       "        vertical-align: top;\n",
       "    }\n",
       "\n",
       "    .dataframe thead th {\n",
       "        text-align: right;\n",
       "    }\n",
       "</style>\n",
       "<table border=\"1\" class=\"dataframe\">\n",
       "  <thead>\n",
       "    <tr style=\"text-align: right;\">\n",
       "      <th></th>\n",
       "      <th>상가업소번호</th>\n",
       "      <th>상호명</th>\n",
       "      <th>지점명</th>\n",
       "      <th>상권업종대분류코드</th>\n",
       "      <th>상권업종대분류명</th>\n",
       "      <th>상권업종중분류코드</th>\n",
       "      <th>상권업종중분류명</th>\n",
       "      <th>상권업종소분류코드</th>\n",
       "      <th>상권업종소분류명</th>\n",
       "      <th>표준산업분류코드</th>\n",
       "      <th>...</th>\n",
       "      <th>건물관리번호</th>\n",
       "      <th>건물명</th>\n",
       "      <th>도로명주소</th>\n",
       "      <th>구우편번호</th>\n",
       "      <th>신우편번호</th>\n",
       "      <th>동정보</th>\n",
       "      <th>층정보</th>\n",
       "      <th>호정보</th>\n",
       "      <th>경도</th>\n",
       "      <th>위도</th>\n",
       "    </tr>\n",
       "  </thead>\n",
       "  <tbody>\n",
       "    <tr>\n",
       "      <th>0</th>\n",
       "      <td>19905471</td>\n",
       "      <td>와라와라호프</td>\n",
       "      <td>NaN</td>\n",
       "      <td>Q</td>\n",
       "      <td>음식</td>\n",
       "      <td>Q09</td>\n",
       "      <td>유흥주점</td>\n",
       "      <td>Q09A01</td>\n",
       "      <td>호프/맥주</td>\n",
       "      <td>I56219</td>\n",
       "      <td>...</td>\n",
       "      <td>1168010600106040000014378</td>\n",
       "      <td>대치상가</td>\n",
       "      <td>서울특별시 강남구 남부순환로 2933</td>\n",
       "      <td>135280</td>\n",
       "      <td>6280.0</td>\n",
       "      <td>NaN</td>\n",
       "      <td>1</td>\n",
       "      <td>NaN</td>\n",
       "      <td>127.061026</td>\n",
       "      <td>37.493922</td>\n",
       "    </tr>\n",
       "    <tr>\n",
       "      <th>1</th>\n",
       "      <td>19911397</td>\n",
       "      <td>커피빈코리아선릉로93길점</td>\n",
       "      <td>코리아선릉로93길점</td>\n",
       "      <td>Q</td>\n",
       "      <td>음식</td>\n",
       "      <td>Q12</td>\n",
       "      <td>커피점/카페</td>\n",
       "      <td>Q12A01</td>\n",
       "      <td>커피전문점/카페/다방</td>\n",
       "      <td>I56220</td>\n",
       "      <td>...</td>\n",
       "      <td>1168010100106960042022041</td>\n",
       "      <td>NaN</td>\n",
       "      <td>서울특별시 강남구 선릉로93길 6</td>\n",
       "      <td>135080</td>\n",
       "      <td>6149.0</td>\n",
       "      <td>NaN</td>\n",
       "      <td>1</td>\n",
       "      <td>NaN</td>\n",
       "      <td>127.047883</td>\n",
       "      <td>37.505675</td>\n",
       "    </tr>\n",
       "    <tr>\n",
       "      <th>2</th>\n",
       "      <td>19911801</td>\n",
       "      <td>프로포즈</td>\n",
       "      <td>NaN</td>\n",
       "      <td>Q</td>\n",
       "      <td>음식</td>\n",
       "      <td>Q09</td>\n",
       "      <td>유흥주점</td>\n",
       "      <td>Q09A01</td>\n",
       "      <td>호프/맥주</td>\n",
       "      <td>I56219</td>\n",
       "      <td>...</td>\n",
       "      <td>1154510200101620001017748</td>\n",
       "      <td>NaN</td>\n",
       "      <td>서울특별시 금천구 가산로 34-6</td>\n",
       "      <td>153010</td>\n",
       "      <td>8545.0</td>\n",
       "      <td>NaN</td>\n",
       "      <td>1</td>\n",
       "      <td>NaN</td>\n",
       "      <td>126.899220</td>\n",
       "      <td>37.471711</td>\n",
       "    </tr>\n",
       "  </tbody>\n",
       "</table>\n",
       "<p>3 rows × 39 columns</p>\n",
       "</div>"
      ],
      "text/plain": [
       "     상가업소번호            상호명         지점명 상권업종대분류코드 상권업종대분류명 상권업종중분류코드 상권업종중분류명  \\\n",
       "0  19905471         와라와라호프         NaN         Q       음식       Q09     유흥주점   \n",
       "1  19911397  커피빈코리아선릉로93길점  코리아선릉로93길점         Q       음식       Q12   커피점/카페   \n",
       "2  19911801           프로포즈         NaN         Q       음식       Q09     유흥주점   \n",
       "\n",
       "  상권업종소분류코드     상권업종소분류명 표준산업분류코드  ...                     건물관리번호   건물명  \\\n",
       "0    Q09A01        호프/맥주   I56219  ...  1168010600106040000014378  대치상가   \n",
       "1    Q12A01  커피전문점/카페/다방   I56220  ...  1168010100106960042022041   NaN   \n",
       "2    Q09A01        호프/맥주   I56219  ...  1154510200101620001017748   NaN   \n",
       "\n",
       "                  도로명주소   구우편번호   신우편번호  동정보 층정보  호정보          경도         위도  \n",
       "0  서울특별시 강남구 남부순환로 2933  135280  6280.0  NaN   1  NaN  127.061026  37.493922  \n",
       "1    서울특별시 강남구 선릉로93길 6  135080  6149.0  NaN   1  NaN  127.047883  37.505675  \n",
       "2    서울특별시 금천구 가산로 34-6  153010  8545.0  NaN   1  NaN  126.899220  37.471711  \n",
       "\n",
       "[3 rows x 39 columns]"
      ]
     },
     "execution_count": 20,
     "metadata": {},
     "output_type": "execute_result"
    }
   ],
   "source": [
    "shop_2018_12.head(3)"
   ]
  },
  {
   "cell_type": "code",
   "execution_count": 21,
   "metadata": {},
   "outputs": [
    {
     "data": {
      "text/html": [
       "<div>\n",
       "<style scoped>\n",
       "    .dataframe tbody tr th:only-of-type {\n",
       "        vertical-align: middle;\n",
       "    }\n",
       "\n",
       "    .dataframe tbody tr th {\n",
       "        vertical-align: top;\n",
       "    }\n",
       "\n",
       "    .dataframe thead th {\n",
       "        text-align: right;\n",
       "    }\n",
       "</style>\n",
       "<table border=\"1\" class=\"dataframe\">\n",
       "  <thead>\n",
       "    <tr style=\"text-align: right;\">\n",
       "      <th></th>\n",
       "      <th>상가업소번호</th>\n",
       "      <th>상호명</th>\n",
       "      <th>지점명</th>\n",
       "      <th>상권업종대분류코드</th>\n",
       "      <th>상권업종대분류명</th>\n",
       "      <th>상권업종중분류코드</th>\n",
       "      <th>상권업종중분류명</th>\n",
       "      <th>상권업종소분류코드</th>\n",
       "      <th>상권업종소분류명</th>\n",
       "      <th>표준산업분류코드</th>\n",
       "      <th>...</th>\n",
       "      <th>건물관리번호</th>\n",
       "      <th>건물명</th>\n",
       "      <th>도로명주소</th>\n",
       "      <th>구우편번호</th>\n",
       "      <th>신우편번호</th>\n",
       "      <th>동정보</th>\n",
       "      <th>층정보</th>\n",
       "      <th>호정보</th>\n",
       "      <th>경도</th>\n",
       "      <th>위도</th>\n",
       "    </tr>\n",
       "  </thead>\n",
       "  <tbody>\n",
       "    <tr>\n",
       "      <th>499325</th>\n",
       "      <td>16093078</td>\n",
       "      <td>체크페이먼트</td>\n",
       "      <td>NaN</td>\n",
       "      <td>Q</td>\n",
       "      <td>음식</td>\n",
       "      <td>Q12</td>\n",
       "      <td>커피점/카페</td>\n",
       "      <td>Q12A01</td>\n",
       "      <td>커피전문점/카페/다방</td>\n",
       "      <td>I56220</td>\n",
       "      <td>...</td>\n",
       "      <td>1168010600109050000028207</td>\n",
       "      <td>성아빌딩</td>\n",
       "      <td>서울특별시 강남구 역삼로69길 10</td>\n",
       "      <td>135841</td>\n",
       "      <td>6196.0</td>\n",
       "      <td>NaN</td>\n",
       "      <td>NaN</td>\n",
       "      <td>NaN</td>\n",
       "      <td>127.054001</td>\n",
       "      <td>37.502210</td>\n",
       "    </tr>\n",
       "    <tr>\n",
       "      <th>499326</th>\n",
       "      <td>16093122</td>\n",
       "      <td>마젠타네일</td>\n",
       "      <td>NaN</td>\n",
       "      <td>F</td>\n",
       "      <td>생활서비스</td>\n",
       "      <td>F01</td>\n",
       "      <td>이/미용/건강</td>\n",
       "      <td>F01A02</td>\n",
       "      <td>발/네일케어</td>\n",
       "      <td>S96119</td>\n",
       "      <td>...</td>\n",
       "      <td>1144010200104630000002585</td>\n",
       "      <td>마포현대하이엘</td>\n",
       "      <td>서울특별시 마포구 마포대로 173</td>\n",
       "      <td>121862</td>\n",
       "      <td>4130.0</td>\n",
       "      <td>NaN</td>\n",
       "      <td>1</td>\n",
       "      <td>NaN</td>\n",
       "      <td>126.954442</td>\n",
       "      <td>37.549892</td>\n",
       "    </tr>\n",
       "    <tr>\n",
       "      <th>499327</th>\n",
       "      <td>16093154</td>\n",
       "      <td>GS25</td>\n",
       "      <td>역촌대로점</td>\n",
       "      <td>D</td>\n",
       "      <td>소매</td>\n",
       "      <td>D03</td>\n",
       "      <td>종합소매점</td>\n",
       "      <td>D03A01</td>\n",
       "      <td>편의점</td>\n",
       "      <td>G47122</td>\n",
       "      <td>...</td>\n",
       "      <td>1138010800100090007000001</td>\n",
       "      <td>서부빌딩</td>\n",
       "      <td>서울특별시 은평구 연서로 92</td>\n",
       "      <td>122895</td>\n",
       "      <td>3401.0</td>\n",
       "      <td>NaN</td>\n",
       "      <td>1</td>\n",
       "      <td>NaN</td>\n",
       "      <td>126.915538</td>\n",
       "      <td>37.607334</td>\n",
       "    </tr>\n",
       "  </tbody>\n",
       "</table>\n",
       "<p>3 rows × 39 columns</p>\n",
       "</div>"
      ],
      "text/plain": [
       "          상가업소번호     상호명    지점명 상권업종대분류코드 상권업종대분류명 상권업종중분류코드 상권업종중분류명  \\\n",
       "499325  16093078  체크페이먼트    NaN         Q       음식       Q12   커피점/카페   \n",
       "499326  16093122   마젠타네일    NaN         F    생활서비스       F01  이/미용/건강   \n",
       "499327  16093154    GS25  역촌대로점         D       소매       D03    종합소매점   \n",
       "\n",
       "       상권업종소분류코드     상권업종소분류명 표준산업분류코드  ...                     건물관리번호  \\\n",
       "499325    Q12A01  커피전문점/카페/다방   I56220  ...  1168010600109050000028207   \n",
       "499326    F01A02       발/네일케어   S96119  ...  1144010200104630000002585   \n",
       "499327    D03A01          편의점   G47122  ...  1138010800100090007000001   \n",
       "\n",
       "            건물명                도로명주소   구우편번호   신우편번호  동정보  층정보  호정보  \\\n",
       "499325     성아빌딩  서울특별시 강남구 역삼로69길 10  135841  6196.0  NaN  NaN  NaN   \n",
       "499326  마포현대하이엘   서울특별시 마포구 마포대로 173  121862  4130.0  NaN    1  NaN   \n",
       "499327     서부빌딩     서울특별시 은평구 연서로 92  122895  3401.0  NaN    1  NaN   \n",
       "\n",
       "                경도         위도  \n",
       "499325  127.054001  37.502210  \n",
       "499326  126.954442  37.549892  \n",
       "499327  126.915538  37.607334  \n",
       "\n",
       "[3 rows x 39 columns]"
      ]
     },
     "execution_count": 21,
     "metadata": {},
     "output_type": "execute_result"
    }
   ],
   "source": [
    "shop_2018_12.tail(3)"
   ]
  },
  {
   "cell_type": "code",
   "execution_count": 22,
   "metadata": {},
   "outputs": [
    {
     "data": {
      "text/plain": [
       "Index(['상가업소번호', '상호명', '지점명', '상권업종대분류코드', '상권업종대분류명', '상권업종중분류코드',\n",
       "       '상권업종중분류명', '상권업종소분류코드', '상권업종소분류명', '표준산업분류코드', '표준산업분류명', '시도코드',\n",
       "       '시도명', '시군구코드', '시군구명', '행정동코드', '행정동명', '법정동코드', '법정동명', '지번코드',\n",
       "       '대지구분코드', '대지구분명', '지번본번지', '지번부번지', '지번주소', '도로명코드', '도로명', '건물본번지',\n",
       "       '건물부번지', '건물관리번호', '건물명', '도로명주소', '구우편번호', '신우편번호', '동정보', '층정보',\n",
       "       '호정보', '경도', '위도'],\n",
       "      dtype='object')"
      ]
     },
     "execution_count": 22,
     "metadata": {},
     "output_type": "execute_result"
    }
   ],
   "source": [
    "shop_2018_12.columns"
   ]
  },
  {
   "cell_type": "code",
   "execution_count": 23,
   "metadata": {},
   "outputs": [
    {
     "data": {
      "text/html": [
       "<div>\n",
       "<style scoped>\n",
       "    .dataframe tbody tr th:only-of-type {\n",
       "        vertical-align: middle;\n",
       "    }\n",
       "\n",
       "    .dataframe tbody tr th {\n",
       "        vertical-align: top;\n",
       "    }\n",
       "\n",
       "    .dataframe thead th {\n",
       "        text-align: right;\n",
       "    }\n",
       "</style>\n",
       "<table border=\"1\" class=\"dataframe\">\n",
       "  <thead>\n",
       "    <tr style=\"text-align: right;\">\n",
       "      <th></th>\n",
       "      <th>상호명</th>\n",
       "      <th>지점명</th>\n",
       "      <th>상권업종대분류명</th>\n",
       "      <th>상권업종중분류명</th>\n",
       "      <th>상권업종소분류명</th>\n",
       "      <th>시도명</th>\n",
       "      <th>시군구명</th>\n",
       "      <th>행정동명</th>\n",
       "      <th>법정동명</th>\n",
       "      <th>지번주소</th>\n",
       "      <th>경도</th>\n",
       "      <th>위도</th>\n",
       "    </tr>\n",
       "  </thead>\n",
       "  <tbody>\n",
       "    <tr>\n",
       "      <th>0</th>\n",
       "      <td>와라와라호프</td>\n",
       "      <td>NaN</td>\n",
       "      <td>음식</td>\n",
       "      <td>유흥주점</td>\n",
       "      <td>호프/맥주</td>\n",
       "      <td>서울특별시</td>\n",
       "      <td>강남구</td>\n",
       "      <td>대치1동</td>\n",
       "      <td>대치동</td>\n",
       "      <td>서울특별시 강남구 대치동 604</td>\n",
       "      <td>127.061026</td>\n",
       "      <td>37.493922</td>\n",
       "    </tr>\n",
       "    <tr>\n",
       "      <th>1</th>\n",
       "      <td>커피빈코리아선릉로93길점</td>\n",
       "      <td>코리아선릉로93길점</td>\n",
       "      <td>음식</td>\n",
       "      <td>커피점/카페</td>\n",
       "      <td>커피전문점/카페/다방</td>\n",
       "      <td>서울특별시</td>\n",
       "      <td>강남구</td>\n",
       "      <td>역삼1동</td>\n",
       "      <td>역삼동</td>\n",
       "      <td>서울특별시 강남구 역삼동 696-42</td>\n",
       "      <td>127.047883</td>\n",
       "      <td>37.505675</td>\n",
       "    </tr>\n",
       "    <tr>\n",
       "      <th>2</th>\n",
       "      <td>프로포즈</td>\n",
       "      <td>NaN</td>\n",
       "      <td>음식</td>\n",
       "      <td>유흥주점</td>\n",
       "      <td>호프/맥주</td>\n",
       "      <td>서울특별시</td>\n",
       "      <td>금천구</td>\n",
       "      <td>독산3동</td>\n",
       "      <td>독산동</td>\n",
       "      <td>서울특별시 금천구 독산동 162-1</td>\n",
       "      <td>126.899220</td>\n",
       "      <td>37.471711</td>\n",
       "    </tr>\n",
       "    <tr>\n",
       "      <th>3</th>\n",
       "      <td>싱싱커피&amp;토스트</td>\n",
       "      <td>NaN</td>\n",
       "      <td>음식</td>\n",
       "      <td>패스트푸드</td>\n",
       "      <td>토스트전문</td>\n",
       "      <td>부산광역시</td>\n",
       "      <td>사상구</td>\n",
       "      <td>괘법동</td>\n",
       "      <td>괘법동</td>\n",
       "      <td>부산광역시 사상구 괘법동 578</td>\n",
       "      <td>128.980455</td>\n",
       "      <td>35.159774</td>\n",
       "    </tr>\n",
       "    <tr>\n",
       "      <th>4</th>\n",
       "      <td>가락사우나내스낵</td>\n",
       "      <td>NaN</td>\n",
       "      <td>생활서비스</td>\n",
       "      <td>대중목욕탕/휴게</td>\n",
       "      <td>사우나/증기탕/온천</td>\n",
       "      <td>서울특별시</td>\n",
       "      <td>송파구</td>\n",
       "      <td>석촌동</td>\n",
       "      <td>석촌동</td>\n",
       "      <td>서울특별시 송파구 석촌동 256</td>\n",
       "      <td>127.104071</td>\n",
       "      <td>37.500249</td>\n",
       "    </tr>\n",
       "  </tbody>\n",
       "</table>\n",
       "</div>"
      ],
      "text/plain": [
       "             상호명         지점명 상권업종대분류명  상권업종중분류명     상권업종소분류명    시도명 시군구명  \\\n",
       "0         와라와라호프         NaN       음식      유흥주점        호프/맥주  서울특별시  강남구   \n",
       "1  커피빈코리아선릉로93길점  코리아선릉로93길점       음식    커피점/카페  커피전문점/카페/다방  서울특별시  강남구   \n",
       "2           프로포즈         NaN       음식      유흥주점        호프/맥주  서울특별시  금천구   \n",
       "3       싱싱커피&토스트         NaN       음식     패스트푸드        토스트전문  부산광역시  사상구   \n",
       "4       가락사우나내스낵         NaN    생활서비스  대중목욕탕/휴게   사우나/증기탕/온천  서울특별시  송파구   \n",
       "\n",
       "   행정동명 법정동명                  지번주소          경도         위도  \n",
       "0  대치1동  대치동     서울특별시 강남구 대치동 604  127.061026  37.493922  \n",
       "1  역삼1동  역삼동  서울특별시 강남구 역삼동 696-42  127.047883  37.505675  \n",
       "2  독산3동  독산동   서울특별시 금천구 독산동 162-1  126.899220  37.471711  \n",
       "3   괘법동  괘법동     부산광역시 사상구 괘법동 578  128.980455  35.159774  \n",
       "4   석촌동  석촌동     서울특별시 송파구 석촌동 256  127.104071  37.500249  "
      ]
     },
     "execution_count": 23,
     "metadata": {},
     "output_type": "execute_result"
    }
   ],
   "source": [
    "view_columns = ['상호명', '지점명', '상권업종대분류명', '상권업종중분류명',\n",
    "              '상권업종소분류명', '시도명', '시군구명', \n",
    "              '행정동명', '법정동명', '지번주소', '경도', '위도']\n",
    "shop_2018_12[view_columns].head()"
   ]
  },
  {
   "cell_type": "code",
   "execution_count": 31,
   "metadata": {},
   "outputs": [
    {
     "data": {
      "text/plain": [
       "상가업소번호            0\n",
       "상호명               1\n",
       "지점명          432587\n",
       "상권업종대분류코드         0\n",
       "상권업종대분류명          0\n",
       "상권업종중분류코드         0\n",
       "상권업종중분류명          0\n",
       "상권업종소분류코드         0\n",
       "상권업종소분류명          0\n",
       "표준산업분류코드      28731\n",
       "표준산업분류명       28731\n",
       "시도코드              0\n",
       "시도명               0\n",
       "시군구코드             0\n",
       "시군구명              0\n",
       "행정동코드             0\n",
       "행정동명              0\n",
       "법정동코드             0\n",
       "법정동명              0\n",
       "지번코드              0\n",
       "대지구분코드            0\n",
       "대지구분명             0\n",
       "지번본번지             0\n",
       "지번부번지         86552\n",
       "지번주소              0\n",
       "도로명코드             0\n",
       "도로명               0\n",
       "건물본번지             0\n",
       "건물부번지        434501\n",
       "건물관리번호            0\n",
       "건물명          274150\n",
       "도로명주소             0\n",
       "구우편번호             0\n",
       "신우편번호             9\n",
       "동정보          455420\n",
       "층정보          191133\n",
       "호정보          427356\n",
       "경도                0\n",
       "위도                0\n",
       "dtype: int64"
      ]
     },
     "execution_count": 31,
     "metadata": {},
     "output_type": "execute_result"
    }
   ],
   "source": [
    "# 생각보다 결측치가 많다.\n",
    "shop_2018_12.isnull().sum()"
   ]
  },
  {
   "cell_type": "code",
   "execution_count": null,
   "metadata": {},
   "outputs": [],
   "source": [
    "# 폰트 설정 방법 1\n",
    "import matplotlib.pyplot as plt\n",
    "\n",
    "# matplotlib 폰트설정\n",
    "# plt.rc('font', family='NanumGothicOTF') # For MacOS\n",
    "plt.rc('font', family='NanumBarunGothic') # For Windows\n",
    "print(plt.rcParams['font.family'])\n",
    "\n",
    "%matplotlib inline\n",
    "# 브라우저에서 바로 이미지를 그린다."
   ]
  },
  {
   "cell_type": "code",
   "execution_count": 38,
   "metadata": {},
   "outputs": [],
   "source": [
    "# 폰트 설정 방법 2\n",
    "import matplotlib\n",
    "import matplotlib.font_manager as fm\n",
    "\n",
    "fm.get_fontconfig_fonts()\n",
    "# font_location = '/usr/share/fonts/truetype/nanum/NanumGothicOTF.ttf'\n",
    "font_location = 'C:/Windows/Fonts/NanumBarunGothic.ttf' # For Windows\n",
    "font_name = fm.FontProperties(fname=font_location).get_name()\n",
    "matplotlib.rc('font', family=font_name)\n",
    "matplotlib.font_manager._rebuild()\n",
    "\n",
    "%matplotlib inline\n",
    "# 브라우저에서 바로 이미지를 그린다."
   ]
  },
  {
   "cell_type": "code",
   "execution_count": 39,
   "metadata": {},
   "outputs": [
    {
     "data": {
      "text/plain": [
       "<matplotlib.axes._subplots.AxesSubplot at 0x1ae9cf2de80>"
      ]
     },
     "execution_count": 39,
     "metadata": {},
     "output_type": "execute_result"
    },
    {
     "data": {
      "image/png": "[encoded data removed]",
      "text/plain": [
       "<Figure size 1800x720 with 2 Axes>"
      ]
     },
     "metadata": {},
     "output_type": "display_data"
    }
   ],
   "source": [
    "import missingno as msno\n",
    "\n",
    "msno.matrix(shop_2018_12)"
   ]
  },
  {
   "cell_type": "code",
   "execution_count": 45,
   "metadata": {},
   "outputs": [
    {
     "data": {
      "image/png": "[encoded data removed]",
      "text/plain": [
       "<Figure size 432x288 with 1 Axes>"
      ]
     },
     "metadata": {},
     "output_type": "display_data"
    }
   ],
   "source": [
    "import numpy as np\n",
    "import matplotlib.pyplot as plt\n",
    "\n",
    "\n",
    "N = 5\n",
    "menMeans = (20, 35, 30, 35, 27)\n",
    "womenMeans = (25, 32, 34, 20, 25)\n",
    "menStd = (2, 3, 4, 1, 2)\n",
    "womenStd = (3, 5, 2, 3, 3)\n",
    "ind = np.arange(N)    # the x locations for the groups\n",
    "width = 0.5       # the width of the bars: can also be len(x) sequence\n",
    "\n",
    "p1 = plt.bar(ind, menMeans, width, yerr=menStd)\n",
    "p2 = plt.bar(ind, womenMeans, width,\n",
    "             bottom=menMeans, yerr=womenStd)\n",
    "\n",
    "plt.ylabel('Scores')\n",
    "plt.title('Scores by group and gender')\n",
    "plt.xticks(ind, ('G1', 'G2', 'G3', 'G4', 'G5'))\n",
    "plt.yticks(np.arange(0, 81, 10))\n",
    "plt.legend((p1[0], p2[0]), ('Men', 'Women'))\n",
    "\n",
    "plt.show()"
   ]
  },
  {
   "cell_type": "code",
   "execution_count": 46,
   "metadata": {},
   "outputs": [
    {
     "name": "stderr",
     "output_type": "stream",
     "text": [
      "C:\\Users\\user\\Anaconda3\\lib\\site-packages\\matplotlib\\font_manager.py:1241: UserWarning: findfont: Font family ['NanumPen'] not found. Falling back to DejaVu Sans.\n",
      "  (prop.get_family(), self.defaultFamily[fontext]))\n",
      "C:\\Users\\user\\Anaconda3\\lib\\site-packages\\matplotlib\\font_manager.py:1241: UserWarning: findfont: Font family ['NanumPen'] not found. Falling back to DejaVu Sans.\n",
      "  (prop.get_family(), self.defaultFamily[fontext]))\n"
     ]
    },
    {
     "data": {
      "image/png": "[encoded data removed]",
      "text/plain": [
       "<Figure size 640x480 with 1 Axes>"
      ]
     },
     "metadata": {},
     "output_type": "display_data"
    },
    {
     "data": {
      "text/plain": [
       "<ggplot: (-9223371921239056917)>"
      ]
     },
     "execution_count": 46,
     "metadata": {},
     "output_type": "execute_result"
    }
   ],
   "source": [
    "# 모든 데이터를 한번에 찍으면 너무 오래 걸려서 1000개만 찍어봅니다.\n",
    "# 양쪽에 데이터가 몰려있는데 왜 그런지 주소 정보를 다시보겠습니다.\n",
    "(ggplot(shop_2018_12[:1000])\n",
    " + aes(x='경도', y='위도')\n",
    " + geom_point()\n",
    " + theme(text=element_text(family='NanumBarunGothic'))\n",
    ")\n"
   ]
  },
  {
   "cell_type": "code",
   "execution_count": null,
   "metadata": {},
   "outputs": [],
   "source": [
    "# 데이터를 보니 서울과 부산만 있는거 같다. \n",
    "# 그래서 서울과 그 외 데이터로 나눠봤다.\n",
    "shop_seoul = shop_2018_12.loc[shop_2018_12['도로명주소'].str.startswith('서울')]\n",
    "shop_except_seoul = shop_2018_12.loc[~shop_2018_12['도로명주소'].str.startswith('서울')]\n",
    "print(shop_seoul.shape)\n",
    "print(shop_except_seoul.shape)"
   ]
  },
  {
   "cell_type": "code",
   "execution_count": null,
   "metadata": {},
   "outputs": [],
   "source": [
    "# 서울만 찍어봤더니 서울지도 비슷하게 나온다\n",
    "(ggplot(shop_seoul)\n",
    " + aes(x='경도', y='위도')\n",
    " + geom_point(color='black', alpha=0.2, size=0.2)\n",
    " + theme(text=element_text(family='NanumBarunGothic'))\n",
    ")\n"
   ]
  },
  {
   "cell_type": "code",
   "execution_count": null,
   "metadata": {},
   "outputs": [],
   "source": [
    "shop_2018_12['도로명주소'].head()"
   ]
  },
  {
   "cell_type": "code",
   "execution_count": null,
   "metadata": {},
   "outputs": [],
   "source": [
    "print(shop_2018_12.shape)\n",
    "shop_2018_12['시도'] = shop_2018_12['도로명주소'].str.split(' ', expand=True)[0]\n",
    "shop_2018_12['구군'] = shop_2018_12['도로명주소'].str.split(' ', expand=True)[1]\n",
    "print(shop_2018_12.shape)\n",
    "shop_2018_12.columns"
   ]
  },
  {
   "cell_type": "code",
   "execution_count": null,
   "metadata": {},
   "outputs": [],
   "source": [
    "# 서울만 찍어봤더니 서울지도 비슷하게 나온다\n",
    "# 서울 DF을 다시 만들어 준다.\n",
    "shop_seoul = shop_2018_12.loc[shop_2018_12['도로명주소'].str.startswith('서울')]\n",
    "shop_seoul.shape"
   ]
  },
  {
   "cell_type": "code",
   "execution_count": null,
   "metadata": {},
   "outputs": [],
   "source": [
    "(ggplot(shop_seoul)\n",
    " + aes(x='경도', y='위도', color='구군')\n",
    " + geom_point(alpha=0.2, size=0.2)\n",
    " + theme(text=element_text(family='NanumBarunGothic'))\n",
    " + scale_fill_gradient(low = 'blue', high = 'green') \n",
    ")"
   ]
  },
  {
   "cell_type": "code",
   "execution_count": null,
   "metadata": {},
   "outputs": [],
   "source": [
    "shop_seoul['상권업종대분류명'].value_counts()"
   ]
  },
  {
   "cell_type": "code",
   "execution_count": null,
   "metadata": {},
   "outputs": [],
   "source": [
    "(ggplot(shop_seoul)\n",
    " + aes(x='경도', y='위도', color='상권업종대분류명')\n",
    " + geom_point(alpha=0.2, size=0.2)\n",
    " + theme(text=element_text(family='NanumBarunGothic'))\n",
    " + scale_fill_gradient(low = 'blue', high = 'green') \n",
    ")"
   ]
  },
  {
   "cell_type": "markdown",
   "metadata": {},
   "source": [
    "## 학문/교육과 관련된 정보 보기"
   ]
  },
  {
   "cell_type": "code",
   "execution_count": null,
   "metadata": {},
   "outputs": [],
   "source": [
    "shop_seoul_edu = shop_seoul[shop_seoul['상권업종대분류명'] == '학문/교육']\n",
    "\n",
    "(ggplot(shop_seoul_edu)\n",
    " + aes(x='경도', y='위도', color='상권업종중분류명')\n",
    " + geom_point(size=0.2)\n",
    " + theme(text=element_text(family='NanumBarunGothic'))\n",
    " + scale_fill_gradient(low = 'blue', high = 'green') \n",
    ")"
   ]
  },
  {
   "cell_type": "markdown",
   "metadata": {},
   "source": [
    "## 부동산과 관련된 정보 보기"
   ]
  },
  {
   "cell_type": "code",
   "execution_count": null,
   "metadata": {},
   "outputs": [],
   "source": [
    "shop_seoul_edu = shop_seoul[shop_seoul['상권업종대분류명'] == '부동산']\n",
    "\n",
    "(ggplot(shop_seoul_edu)\n",
    " + aes(x='경도', y='위도', color='상권업종중분류명')\n",
    " + geom_point(size=0.2)\n",
    " + theme(text=element_text(family='NanumBarunGothic'))\n",
    " + scale_fill_gradient(low = 'blue', high = 'green') \n",
    ")"
   ]
  },
  {
   "cell_type": "markdown",
   "metadata": {},
   "source": [
    "### 학원-컴퓨터"
   ]
  },
  {
   "cell_type": "code",
   "execution_count": null,
   "metadata": {},
   "outputs": [],
   "source": [
    "shop_seoul_edu = shop_seoul.loc[shop_seoul['상권업종중분류명'] == '학원-컴퓨터']\n",
    "\n",
    "(ggplot(shop_seoul_edu)\n",
    " + aes(x='경도', y='위도', color='상권업종중분류명')\n",
    " + geom_point()\n",
    " + theme(text=element_text(family='NanumBarunGothic'))\n",
    " + scale_fill_gradient(low = 'blue', high = 'green') \n",
    ")"
   ]
  },
  {
   "cell_type": "code",
   "execution_count": null,
   "metadata": {},
   "outputs": [],
   "source": [
    "import folium\n",
    "\n",
    "def show_marker_map(geo_df):\n",
    "    map = folium.Map(location=[geo_df['위도'].mean(), geo_df['경도'].mean()], \n",
    "                     zoom_start=12, tiles='Stamen Terrain')\n",
    "\n",
    "    for n in geo_df.index:\n",
    "        shop_name = geo_df.loc[n, '상호명'] + ' - ' + geo_df.loc[n, '도로명주소']\n",
    "        folium.Marker([geo_df.loc[n, '위도'], \n",
    "                       geo_df.loc[n, '경도']], \n",
    "                      popup=shop_name).add_to(map)\n",
    "\n",
    "    return map"
   ]
  },
  {
   "cell_type": "code",
   "execution_count": null,
   "metadata": {},
   "outputs": [],
   "source": [
    "show_marker_map(shop_seoul_edu)"
   ]
  },
  {
   "cell_type": "markdown",
   "metadata": {},
   "source": [
    "#### 편의점 카페 분포 보기"
   ]
  },
  {
   "cell_type": "code",
   "execution_count": null,
   "metadata": {},
   "outputs": [],
   "source": [
    "shop_seoul_eat = shop_seoul[shop_seoul['상권업종중분류명'] == '커피점/카페']\n",
    "\n",
    "(ggplot(shop_seoul_eat)\n",
    " + aes(x='경도', y='위도', color='구군')\n",
    " + geom_point(size=0.7)\n",
    " + theme(text=element_text(family='NanumBarunGothic'))\n",
    " + scale_fill_gradient(low = 'blue', high = 'green') \n",
    ")"
   ]
  },
  {
   "cell_type": "code",
   "execution_count": null,
   "metadata": {},
   "outputs": [],
   "source": [
    "shop_seoul_eat.shape"
   ]
  },
  {
   "cell_type": "code",
   "execution_count": null,
   "metadata": {},
   "outputs": [],
   "source": [
    "geo_df = shop_seoul_eat[shop_seoul_eat[\"구군\"] == \"중구\"]\n",
    "\n",
    "map = folium.Map(location=[geo_df['위도'].mean(), \n",
    "                           geo_df['경도'].mean()], \n",
    "                 zoom_start=16, tiles='Stamen Terrain')\n",
    "\n",
    "for n in geo_df.index:\n",
    "    shop_name = geo_df.loc[n, '상호명'] + ' - ' + geo_df.loc[n, '도로명주소']\n",
    "    folium.Marker([geo_df.loc[n, '위도'], geo_df.loc[n, '경도']], \n",
    "                  popup=shop_name).add_to(map)\n",
    "\n",
    "map"
   ]
  },
  {
   "cell_type": "markdown",
   "metadata": {},
   "source": [
    "## 서울 외 지역 보기"
   ]
  },
  {
   "cell_type": "code",
   "execution_count": null,
   "metadata": {},
   "outputs": [],
   "source": [
    "# 부산만 있는거 같습니다.\n",
    "# 서울만 제외한 나머지 지역으로 DF을 다시 생성해 줍니다.\n",
    "shop_except_seoul = shop_2018_12.loc[~shop_2018_12['도로명주소'].str.startswith('서울')]\n",
    "(ggplot(shop_except_seoul)\n",
    " + aes(x='경도', y='위도', color='구군')\n",
    " + geom_point(size=0.7)\n",
    " + theme(text=element_text(family='NanumBarunGothic'))\n",
    ")"
   ]
  },
  {
   "cell_type": "code",
   "execution_count": null,
   "metadata": {},
   "outputs": [],
   "source": []
  }
 ],
 "metadata": {
  "kernelspec": {
   "display_name": "Python 3",
   "language": "python",
   "name": "python3"
  },
  "language_info": {
   "codemirror_mode": {
    "name": "ipython",
    "version": 3
   },
   "file_extension": ".py",
   "mimetype": "text/x-python",
   "name": "python",
   "nbconvert_exporter": "python",
   "pygments_lexer": "ipython3",
   "version": "3.6.5"
  }
 },
 "nbformat": 4,
 "nbformat_minor": 2
}
